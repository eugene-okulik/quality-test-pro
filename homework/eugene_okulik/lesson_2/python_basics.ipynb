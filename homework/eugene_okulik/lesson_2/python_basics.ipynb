{
 "cells": [
  {
   "attachments": {},
   "cell_type": "markdown",
   "metadata": {},
   "source": [
    "# Идентификаторы"
   ]
  },
  {
   "attachments": {},
   "cell_type": "markdown",
   "metadata": {},
   "source": [
    "Идентификаторы в Python это имена используемые для обозначения переменной, функции, класса, модуля или другого объекта."
   ]
  },
  {
   "attachments": {},
   "cell_type": "markdown",
   "metadata": {},
   "source": [
    "Правила для написания идентификаторов:  \n",
    "Идентификаторы могут быть комбинацией букв в нижнем регистре (a - z) или верхнего регистра (A - Z) или цифр (0 - 9) или подчеркивание `_`. Например: `myClass`, `var_1` и `print_this_to_screen`.  \n",
    "Идентификатор не может начинаться с цифры. `1variable` неправильно, но `variable1` правильно.  \n",
    "Ключевые слова не могут использоваться как идентификаторы.  \n",
    "Нельзя использовать специальные символы !, @, #, $, %.\n",
    "Идентификаторы могут быть любой длины."
   ]
  },
  {
   "attachments": {},
   "cell_type": "markdown",
   "metadata": {},
   "source": [
    "![](2022-11-16_19-17.png)"
   ]
  },
  {
   "attachments": {},
   "cell_type": "markdown",
   "metadata": {},
   "source": [
    "Зарезервированные слова  \n",
    "\n",
    "\n",
    "Мы не можем использовать ключевые слова как имена переменных, имена функций или какой-нибудь любой другой идентификатор.\n",
    "\n",
    "Они используются, для определения синтаксиса и структуры в языке Python. Ключевые слова регистрозависимые. \n",
    "\n",
    "Все слова за исключением True, False и None в маленьком регистре.\n",
    "\n",
    "![](2022-11-16_19-20.png)"
   ]
  },
  {
   "attachments": {},
   "cell_type": "markdown",
   "metadata": {},
   "source": [
    "Python – регистрозависимый язык. Это означает, что `Variable` и `variable` не одно и тоже.  \n",
    "Называйте идентификаторы осмысленно.  \n",
    "Несколько слов могут быть разделены подчеркиванием this_is_a_long_variable.  \n",
    "`snake_case` (undercore notation) - стандарт для именования всего кроме классов"
   ]
  },
  {
   "attachments": {},
   "cell_type": "markdown",
   "metadata": {},
   "source": [
    "# Основные типы данных"
   ]
  },
  {
   "attachments": {},
   "cell_type": "markdown",
   "metadata": {},
   "source": [
    "1. int - integer - целые числа (4)\n",
    "2. float - числа с плавающей точкой (4.2)\n",
    "3. str - string - строки ('My cool text')\n",
    "4. bool - boolean - логические значения: True или False \n",
    "\n",
    "Это не все типы данных, а только основные."
   ]
  },
  {
   "cell_type": "code",
   "execution_count": null,
   "metadata": {},
   "outputs": [],
   "source": [
    "42\n",
    "42.2\n",
    "'lksjdlksjdf'\n",
    "''\n",
    "' '\n",
    "True\n",
    "False\n",
    "print(42)"
   ]
  },
  {
   "attachments": {},
   "cell_type": "markdown",
   "metadata": {},
   "source": [
    "# Переменная"
   ]
  },
  {
   "attachments": {},
   "cell_type": "markdown",
   "metadata": {},
   "source": [
    "Именованный участок памяти, обладающий некоторым типом.  \n",
    "\n",
    "Таким образом, в Python у переменной всегда есть:  \n",
    "Имя (название)  \n",
    "Значение  \n",
    "![](img/2022-11-16_19-39.png)"
   ]
  },
  {
   "attachments": {},
   "cell_type": "markdown",
   "metadata": {},
   "source": [
    "Но тип есть не всегда  \n",
    "![](img/2022-11-16_19-40.png)"
   ]
  },
  {
   "attachments": {},
   "cell_type": "markdown",
   "metadata": {},
   "source": [
    "Переменная - это элемент, который хранит в себе какие либо данные.  \n",
    "Если мы создали переменную, то она никогда не бывает абсолютно пустой. В ней может храниться, например, пустая строка. Тогда переменная хранит строку, которая пустая. И хранит ее до тех пор, пока программа не завершит работу."
   ]
  },
  {
   "attachments": {},
   "cell_type": "markdown",
   "metadata": {},
   "source": [
    "## Объявление переменной"
   ]
  },
  {
   "attachments": {},
   "cell_type": "markdown",
   "metadata": {},
   "source": [
    "Переменные в Python не типизированные. Это значит, что при создании переменной не нужно указывать какой тип данных в ней будет храниться. Более того, переменную не нужно объявлять заранее, до того как присвоить ей какие-либо данные. Объявление переменной происходит простым присвоением ей значения:"
   ]
  },
  {
   "cell_type": "code",
   "execution_count": 15,
   "metadata": {},
   "outputs": [
    {
     "name": "stdout",
     "output_type": "stream",
     "text": [
      "5\n"
     ]
    }
   ],
   "source": [
    "my_name = 'Eugene'\n",
    "my_name = 5\n",
    "\n",
    "print(my_name)\n",
    "\n",
    "my_int = 42\n",
    "my_float = 42.2\n",
    "my_str = 'skdfghksjdhsdf'\n",
    "my_str2 = ''\n",
    "my_str3 = ' '\n",
    "my_bool1 = True\n",
    "my_bool2 = False"
   ]
  },
  {
   "attachments": {},
   "cell_type": "markdown",
   "metadata": {},
   "source": [
    "После присвоения, переменная сама знает какой тип данных в ней хранится. У переменной всегда есть тип (конечно, если значение не None). Но этот тип НЕ неизменнен. Вы всегда можете переназначить содержимое переменной значением любого типа"
   ]
  },
  {
   "attachments": {},
   "cell_type": "markdown",
   "metadata": {},
   "source": [
    "можно проверить какой тип имеет переменная:"
   ]
  },
  {
   "cell_type": "code",
   "execution_count": 16,
   "metadata": {},
   "outputs": [
    {
     "name": "stdout",
     "output_type": "stream",
     "text": [
      "<class 'int'>\n",
      "<class 'float'>\n"
     ]
    }
   ],
   "source": [
    "print(type(my_name))\n",
    "print(type(my_float))"
   ]
  },
  {
   "attachments": {},
   "cell_type": "markdown",
   "metadata": {},
   "source": [
    "## Преобразование типов данных"
   ]
  },
  {
   "cell_type": "code",
   "execution_count": 2,
   "metadata": {},
   "outputs": [
    {
     "name": "stdout",
     "output_type": "stream",
     "text": [
      "3\n"
     ]
    }
   ],
   "source": [
    "a = '1'\n",
    "a = int(a)\n",
    "b = 2\n",
    "print(a + b)"
   ]
  },
  {
   "cell_type": "code",
   "execution_count": 5,
   "metadata": {},
   "outputs": [
    {
     "name": "stdout",
     "output_type": "stream",
     "text": [
      "4\n"
     ]
    }
   ],
   "source": [
    "user_input = input('Введи число: ')  # результат user_input = '2'\n",
    "user_input = int(user_input)\n",
    "print(user_input + 2)"
   ]
  }
 ],
 "metadata": {
  "kernelspec": {
   "display_name": "Python 3",
   "language": "python",
   "name": "python3"
  },
  "language_info": {
   "codemirror_mode": {
    "name": "ipython",
    "version": 3
   },
   "file_extension": ".py",
   "mimetype": "text/x-python",
   "name": "python",
   "nbconvert_exporter": "python",
   "pygments_lexer": "ipython3",
   "version": "3.10.6"
  },
  "orig_nbformat": 4
 },
 "nbformat": 4,
 "nbformat_minor": 2
}
