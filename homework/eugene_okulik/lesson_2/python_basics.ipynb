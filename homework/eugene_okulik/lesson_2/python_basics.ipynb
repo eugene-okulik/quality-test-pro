{
 "cells": [
  {
   "attachments": {},
   "cell_type": "markdown",
   "metadata": {},
   "source": [
    "# Идентификаторы"
   ]
  },
  {
   "attachments": {},
   "cell_type": "markdown",
   "metadata": {},
   "source": [
    "Идентификаторы в Python это имена используемые для обозначения переменной, функции, класса, модуля или другого объекта."
   ]
  },
  {
   "attachments": {},
   "cell_type": "markdown",
   "metadata": {},
   "source": [
    "Правила для написания идентификаторов:  \n",
    "Идентификаторы могут быть комбинацией букв в нижнем регистре (a - z) или верхнего регистра (A - Z) или цифр (0 - 9) или подчеркивание `_`. Например: `myClass`, `var_1` и `print_this_to_screen`.  \n",
    "Идентификатор не может начинаться с цифры. `1variable` неправильно, но `variable1` правильно.  \n",
    "Ключевые слова не могут использоваться как идентификаторы.  \n",
    "Нельзя использовать специальные символы !, @, #, $, %.\n",
    "Идентификаторы могут быть любой длины."
   ]
  },
  {
   "attachments": {},
   "cell_type": "markdown",
   "metadata": {},
   "source": [
    "![](2022-11-16_19-17.png)"
   ]
  },
  {
   "attachments": {},
   "cell_type": "markdown",
   "metadata": {},
   "source": [
    "Зарезервированные слова  \n",
    "\n",
    "\n",
    "Мы не можем использовать ключевые слова как имена переменных, имена функций или какой-нибудь любой другой идентификатор.\n",
    "\n",
    "Они используются, для определения синтаксиса и структуры в языке Python. Ключевые слова регистрозависимые. \n",
    "\n",
    "Все слова за исключением True, False и None в маленьком регистре.\n",
    "\n",
    "![](2022-11-16_19-20.png)"
   ]
  },
  {
   "attachments": {},
   "cell_type": "markdown",
   "metadata": {},
   "source": [
    "Python – регистрозависимый язык. Это означает, что `Variable` и `variable` не одно и тоже.  \n",
    "Называйте идентификаторы осмысленно.  \n",
    "Несколько слов могут быть разделены подчеркиванием this_is_a_long_variable.  \n",
    "`snake_case` (undercore notation) - стандарт для именования всего кроме классов"
   ]
  },
  {
   "attachments": {},
   "cell_type": "markdown",
   "metadata": {},
   "source": [
    "# Основные типы данных"
   ]
  },
  {
   "attachments": {},
   "cell_type": "markdown",
   "metadata": {},
   "source": [
    "1. int - integer - целые числа (4)\n",
    "2. float - числа с плавающей точкой (4.2)\n",
    "3. str - string - строки ('My cool text')\n",
    "4. bool - boolean - логические значения: True или False \n",
    "\n",
    "Это не все типы данных, а только основные."
   ]
  },
  {
   "cell_type": "code",
   "execution_count": null,
   "metadata": {},
   "outputs": [],
   "source": [
    "42\n",
    "42.2\n",
    "'lksjdlksjdf'\n",
    "''\n",
    "' '\n",
    "True\n",
    "False\n",
    "print(42)"
   ]
  },
  {
   "attachments": {},
   "cell_type": "markdown",
   "metadata": {},
   "source": [
    "# Переменная"
   ]
  },
  {
   "attachments": {},
   "cell_type": "markdown",
   "metadata": {},
   "source": [
    "Именованный участок памяти, обладающий некоторым типом.  \n",
    "\n",
    "Таким образом, в Python у переменной всегда есть:  \n",
    "Имя (название)  \n",
    "Значение  \n",
    "![](img/2022-11-16_19-39.png)"
   ]
  },
  {
   "attachments": {},
   "cell_type": "markdown",
   "metadata": {},
   "source": [
    "Но тип есть не всегда  \n",
    "![](img/2022-11-16_19-40.png)"
   ]
  },
  {
   "attachments": {},
   "cell_type": "markdown",
   "metadata": {},
   "source": [
    "Переменная - это элемент, который хранит в себе какие либо данные.  \n",
    "Если мы создали переменную, то она никогда не бывает абсолютно пустой. В ней может храниться, например, пустая строка. Тогда переменная хранит строку, которая пустая. И хранит ее до тех пор, пока программа не завершит работу."
   ]
  },
  {
   "attachments": {},
   "cell_type": "markdown",
   "metadata": {},
   "source": [
    "## Объявление переменной"
   ]
  },
  {
   "attachments": {},
   "cell_type": "markdown",
   "metadata": {},
   "source": [
    "Переменные в Python не типизированные. Это значит, что при создании переменной не нужно указывать какой тип данных в ней будет храниться. Более того, переменную не нужно объявлять заранее, до того как присвоить ей какие-либо данные. Объявление переменной происходит простым присвоением ей значения:"
   ]
  },
  {
   "cell_type": "code",
   "execution_count": 15,
   "metadata": {},
   "outputs": [
    {
     "name": "stdout",
     "output_type": "stream",
     "text": [
      "5\n"
     ]
    }
   ],
   "source": [
    "my_name = 'Eugene'\n",
    "my_name = 5\n",
    "\n",
    "print(my_name)\n",
    "\n",
    "my_int = 42\n",
    "my_float = 42.2\n",
    "my_str = 'skdfghksjdhsdf'\n",
    "my_str2 = ''\n",
    "my_str3 = ' '\n",
    "my_bool1 = True\n",
    "my_bool2 = False"
   ]
  },
  {
   "attachments": {},
   "cell_type": "markdown",
   "metadata": {},
   "source": [
    "После присвоения, переменная сама знает какой тип данных в ней хранится. У переменной всегда есть тип (конечно, если значение не None). Но этот тип НЕ неизменнен. Вы всегда можете переназначить содержимое переменной значением любого типа"
   ]
  },
  {
   "attachments": {},
   "cell_type": "markdown",
   "metadata": {},
   "source": [
    "можно проверить какой тип имеет переменная:"
   ]
  },
  {
   "cell_type": "code",
   "execution_count": 16,
   "metadata": {},
   "outputs": [
    {
     "name": "stdout",
     "output_type": "stream",
     "text": [
      "<class 'int'>\n",
      "<class 'float'>\n"
     ]
    }
   ],
   "source": [
    "print(type(my_name))\n",
    "print(type(my_float))"
   ]
  },
  {
   "attachments": {},
   "cell_type": "markdown",
   "metadata": {},
   "source": [
    "## Преобразование типов данных"
   ]
  },
  {
   "cell_type": "code",
   "execution_count": 2,
   "metadata": {},
   "outputs": [
    {
     "name": "stdout",
     "output_type": "stream",
     "text": [
      "3\n"
     ]
    }
   ],
   "source": [
    "a = '1' # переменная а - string\n",
    "a = int(a) # переменная преобразована - теперь в ней int и можно работать с ней как с числом\n",
    "b = 2\n",
    "print(a + b)\n",
    "a = 'True'  # переменная а - string\n",
    "a = bool(a)  #  переменная преобразована - теперь в ней boolean\n",
    "a = 1\n",
    "a = str(a)\n",
    "a = '1.1'\n",
    "a = float(a)"
   ]
  },
  {
   "attachments": {},
   "cell_type": "markdown",
   "metadata": {},
   "source": [
    "# Операторы"
   ]
  },
  {
   "attachments": {},
   "cell_type": "markdown",
   "metadata": {},
   "source": [
    "![](img/2022-11-16_19-45.png)"
   ]
  },
  {
   "attachments": {},
   "cell_type": "markdown",
   "metadata": {},
   "source": [
    "### Арифметические операторы"
   ]
  },
  {
   "attachments": {},
   "cell_type": "markdown",
   "metadata": {},
   "source": [
    "| Операция                 | Описание                                                      | Пример                  |\n",
    "|--------------------------|---------------------------------------------------------------|-------------------------|\n",
    "| сложение +               | Складывает значение операндов слева и справа от оператора     | 10 + 20 = 30            |\n",
    "| вычитание -              | Вычитает из левого операнда правый                            | 20 - 10 = 10            |\n",
    "| умножение *              | Перемножает левый и правый операнды                           | 10 * 20 = 200           |\n",
    "| деление /                | Делит левый операнд на правый                                 | 20 / 10 = 2             |\n",
    "| остаток от деления %     | Делит левый операнд на правый и возвращает остаток от деления | 20 % 10 = 0 42 % 10 = 2 |\n",
    "| возведение в степень **  | Возводит левый операнд в степень равную правому               | 5 ** 2 = 25             |\n",
    "| целочисленное деление // | Делит левый операнд на правый и оставляет только целую часть  | 9 // 2 = 4              |"
   ]
  },
  {
   "attachments": {},
   "cell_type": "markdown",
   "metadata": {},
   "source": [
    "### Порядок операций"
   ]
  },
  {
   "attachments": {},
   "cell_type": "markdown",
   "metadata": {},
   "source": [
    "Если в выражении встречается больше, чем один оператор, то порядок вычислений зависит от правил старшинства (rules of precedence). Для математических операций, Python следует математическим соглашениям. Аббревиатура PEMDAS является простым способом для запоминания правил:  \n",
    "\n",
    "1. Parentheses - Скобки\n",
    "2. Exponentiation - Возведение в степень\n",
    "3. Multiplication - Умножение\n",
    "4. Division - Деление  \n",
    "5. Addition - Сложение \n",
    "6. Subtraction - Вычитания\n"
   ]
  },
  {
   "attachments": {},
   "cell_type": "markdown",
   "metadata": {},
   "source": [
    "### Операторы сравнения\n",
    "![](2022-11-16_19-57.png)  \n",
    "Один оператор замазан, там \"<>\" - он умер вместе с Python 2.7\n",
    "Все эти операторы используются для того чтобы сравнивать какие-либо значения. Результатом такого сравнения будет True или False"
   ]
  },
  {
   "cell_type": "code",
   "execution_count": 1,
   "metadata": {},
   "outputs": [
    {
     "name": "stdout",
     "output_type": "stream",
     "text": [
      "True\n",
      "True\n",
      "False\n",
      "False\n",
      "True\n"
     ]
    }
   ],
   "source": [
    "print(1 == 1)\n",
    "print(2 < 3)\n",
    "print(2 < 1)\n",
    "a = 5\n",
    "b = 7\n",
    "print(a >= b)\n",
    "my_result = a != b\n",
    "print(my_result)"
   ]
  },
  {
   "attachments": {},
   "cell_type": "markdown",
   "metadata": {},
   "source": [
    "### Операторы присваивания\n",
    "![](img/2022-11-16_20-00.png)  \n",
    "Используются для того, чтобы присвоить какое либо значение переменной."
   ]
  },
  {
   "attachments": {},
   "cell_type": "markdown",
   "metadata": {},
   "source": [
    "Операторы, имеющие перед знаком равно арифметический знак используются для сокращения простых арифметических или составительных операций."
   ]
  },
  {
   "cell_type": "code",
   "execution_count": 2,
   "metadata": {},
   "outputs": [
    {
     "name": "stdout",
     "output_type": "stream",
     "text": [
      "1\n",
      "2\n"
     ]
    }
   ],
   "source": [
    "a = 1\n",
    "print(a)\n",
    "# a = a + 1\n",
    "a += 1\n",
    "print(a)"
   ]
  },
  {
   "cell_type": "code",
   "execution_count": 3,
   "metadata": {},
   "outputs": [
    {
     "name": "stdout",
     "output_type": "stream",
     "text": [
      "text\n",
      "textnew text\n"
     ]
    }
   ],
   "source": [
    "text = 'text'\n",
    "print(text)\n",
    "# text = text + 'new text'\n",
    "text += 'new text'\n",
    "print(text)"
   ]
  },
  {
   "attachments": {},
   "cell_type": "markdown",
   "metadata": {},
   "source": [
    "### Операторы принадлежности\n",
    "![](img/2022-11-16_20-01.png)  \n",
    "Используются в условных выражениях (выражения, в которых содержится условие) для проверки вхождения (или не вхождения) одного объекта в состав другого. Результат работы - True или False  \n",
    "Например, можно проверить есть ли какое-то слово в строке:"
   ]
  },
  {
   "attachments": {},
   "cell_type": "markdown",
   "metadata": {},
   "source": [
    "### Операторы идентичности\n",
    "![](img/2022-11-16_20-05.png)  \n",
    "Используется для проверки является ли объект идентичным тому, что от него требуется (не просто равным по значению, а именно полностью идентичным).  \n",
    "Происходит проверка являются ли сравниваемые значения представителями одного и того же участка памяти в системе. Для чисел от 0 до 256 участки в памяти зарезервированы, поэтому при помещении в переменную такого числа (от 0 до 256) в переменную помещается не само число, а ссылка на него и память для этого числа не выделяется. Эти числа всегда хранятся в системе по одному и тому же адрему. Но если внести в переменную число > 256, то под это число выделяется память и в переменную сохраняется ссылка на эту новую ячейку памяти. Если создать еще одну переменную с таким же значением, под нее снова будет выделена память и в переменную будет сохранена ссылка на новую ячейку памяти.  \n",
    "Таким образом, операторы идентичности проверяют, что сравниваемые объекты представляют собой одну и ту же ячейку памяти."
   ]
  },
  {
   "attachments": {},
   "cell_type": "markdown",
   "metadata": {},
   "source": [
    "## Способы ввода данных\n",
    "Клавиатура  \n",
    "Чтение из файла  \n",
    "База данных  \n",
    "API  \n",
    "\n",
    "Но сначала разберемся с одним из них"
   ]
  },
  {
   "cell_type": "code",
   "execution_count": null,
   "metadata": {},
   "outputs": [],
   "source": [
    "input('What is your name? ')  # При запуске кода с такой командой в терминале, у пользователя спросят What is your name? "
   ]
  },
  {
   "attachments": {},
   "cell_type": "markdown",
   "metadata": {},
   "source": [
    "Но результат этой операции никуда не сохранится. Результатом работы этой команды будет текст, который ввел пользователь. Для того, чтобы можно было им воспользоваться, нужно сохранить его в переменную. Выглядеть это будет так:"
   ]
  },
  {
   "cell_type": "code",
   "execution_count": null,
   "metadata": {},
   "outputs": [],
   "source": [
    "user_name = input('What is your name? ')"
   ]
  },
  {
   "attachments": {},
   "cell_type": "markdown",
   "metadata": {},
   "source": [
    "Теперь переменная user_name будет хранить тот текст, который ввел пользователь. И можно воспользоваться тем, что в ней хранится. Например, каким-то образом вывести эти данные."
   ]
  },
  {
   "attachments": {},
   "cell_type": "markdown",
   "metadata": {},
   "source": [
    "Касательно функции input, важно знать, что все, что ввел пользователь будет сохранено в переменную как текст, независимо от того что пользователь ввел. Поэтому, если мы ждем от пользователя число и хотим работать с этим как с числом, то нужно будет преобразовать тот текст, который ввел пользователь в число."
   ]
  },
  {
   "cell_type": "code",
   "execution_count": 5,
   "metadata": {},
   "outputs": [
    {
     "name": "stdout",
     "output_type": "stream",
     "text": [
      "<class 'str'>\n",
      "<class 'int'>\n",
      "4\n"
     ]
    }
   ],
   "source": [
    "user_input = input('Введи число: ')  # результат user_input = '2'\n",
    "print(type(user_input))\n",
    "user_input = int(user_input)\n",
    "print(type(user_input))\n",
    "print(user_input + 2)"
   ]
  }
 ],
 "metadata": {
  "kernelspec": {
   "display_name": "Python 3",
   "language": "python",
   "name": "python3"
  },
  "language_info": {
   "codemirror_mode": {
    "name": "ipython",
    "version": 3
   },
   "file_extension": ".py",
   "mimetype": "text/x-python",
   "name": "python",
   "nbconvert_exporter": "python",
   "pygments_lexer": "ipython3",
   "version": "3.10.6"
  },
  "orig_nbformat": 4
 },
 "nbformat": 4,
 "nbformat_minor": 2
}
