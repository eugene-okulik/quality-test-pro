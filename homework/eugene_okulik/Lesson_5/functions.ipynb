{
 "cells": [
  {
   "attachments": {},
   "cell_type": "markdown",
   "metadata": {},
   "source": [
    "# Functions"
   ]
  },
  {
   "attachments": {},
   "cell_type": "markdown",
   "metadata": {},
   "source": [
    "Это самые основные программные структуры в языке Python, позволяющие многократное использование программного кода и уменьшающие его избыточность. Так же позволяют разбить сложную систему на достаточно простые и легко управляемые части. Они могут принимать аргументы и возвращать результаты выполнения."
   ]
  },
  {
   "cell_type": "code",
   "execution_count": 3,
   "metadata": {},
   "outputs": [
    {
     "name": "stdout",
     "output_type": "stream",
     "text": [
      "43\n",
      "47\n",
      "46\n",
      "49\n"
     ]
    }
   ],
   "source": [
    "a = 1\n",
    "b = 5\n",
    "c = 4\n",
    "d = 7\n",
    "\n",
    "main_num = 42\n",
    "\n",
    "if a != 0:\n",
    "    print(main_num + a)\n",
    "else:\n",
    "    print('incorrect value')\n",
    "\n",
    "if b != 0:\n",
    "    print(main_num + b)\n",
    "else:\n",
    "    print('incorrect value')\n",
    "if c != 0:\n",
    "    print(main_num + c)\n",
    "else:\n",
    "    print('incorrect value')\n",
    "if d != 0:\n",
    "    print(main_num + d)\n",
    "else:\n",
    "    print('incorrect value')"
   ]
  },
  {
   "cell_type": "code",
   "execution_count": 18,
   "metadata": {},
   "outputs": [
    {
     "name": "stdout",
     "output_type": "stream",
     "text": [
      "43\n",
      "47\n",
      "46\n",
      "49\n"
     ]
    }
   ],
   "source": [
    "a = 1\n",
    "b = 5\n",
    "c = 4\n",
    "d = 7\n",
    "\n",
    "main_num = 42\n",
    "\n",
    "def calc(numb):\n",
    "    if numb > 0:\n",
    "        print(main_num + numb)\n",
    "    else:\n",
    "        print('incorrect value')\n",
    "\n",
    "calc(a)\n",
    "calc(b)\n",
    "calc(c)\n",
    "calc(d)"
   ]
  },
  {
   "cell_type": "code",
   "execution_count": 21,
   "metadata": {},
   "outputs": [
    {
     "name": "stdout",
     "output_type": "stream",
     "text": [
      "43\n",
      "working....\n",
      "working....\n",
      "working....\n",
      "working....\n",
      "working....\n",
      "working....\n",
      "47\n",
      "working....\n",
      "working....\n",
      "working....\n",
      "working....\n",
      "working....\n",
      "working....\n",
      "46\n",
      "working....\n",
      "working....\n",
      "working....\n",
      "working....\n",
      "working....\n",
      "working....\n",
      "49\n"
     ]
    }
   ],
   "source": [
    "def print_working():\n",
    "    print('working....')\n",
    "    print('working....')\n",
    "    print('working....')\n",
    "    print('working....')\n",
    "    print('working....')\n",
    "    print('working....')\n",
    "\n",
    "\n",
    "calc(a)\n",
    "print_working()\n",
    "calc(b)\n",
    "print_working()\n",
    "calc(c)\n",
    "print_working()\n",
    "calc(d)"
   ]
  },
  {
   "cell_type": "code",
   "execution_count": 20,
   "metadata": {},
   "outputs": [
    {
     "name": "stdout",
     "output_type": "stream",
     "text": [
      "45\n"
     ]
    }
   ],
   "source": [
    "def calc2(numb):\n",
    "    if numb > 0:\n",
    "        result = main_num + numb\n",
    "    else:\n",
    "        result = 'incorrect value'\n",
    "    return result\n",
    "\n",
    "# print(calc(a))\n",
    "y = calc2(a)\n",
    "print(y + 2)"
   ]
  },
  {
   "cell_type": "code",
   "execution_count": 25,
   "metadata": {},
   "outputs": [
    {
     "name": "stdout",
     "output_type": "stream",
     "text": [
      "First word is one, second word is two\n",
      "First word is one, second word is two\n",
      "First word is one, second word is two\n"
     ]
    }
   ],
   "source": [
    "def print_words(first, second, third, fourth, fifth):\n",
    "    print(f'First word is {first}, second word is {second}')\n",
    "\n",
    "print_words('one', 'two', 'three', 'four', 'five')\n",
    "print_words(first='one', second='two', third='three', fourth='four', fifth='five')\n",
    "print_words(fifth='five', first='one', third='three', fourth='four', second='two')"
   ]
  },
  {
   "cell_type": "code",
   "execution_count": 27,
   "metadata": {},
   "outputs": [
    {
     "name": "stdout",
     "output_type": "stream",
     "text": [
      "(4, 9)\n",
      "4\n"
     ]
    }
   ],
   "source": [
    "def get_squares(first, second):\n",
    "    return first * first, second * second\n",
    "\n",
    "print(get_squares(2, 3))\n",
    "first_sq, second_sq = get_squares(2, 3)\n",
    "print(first_sq)"
   ]
  },
  {
   "cell_type": "code",
   "execution_count": 28,
   "metadata": {},
   "outputs": [
    {
     "name": "stdout",
     "output_type": "stream",
     "text": [
      "4\n"
     ]
    }
   ],
   "source": [
    "def simple_calc(a, b):\n",
    "    return a + b\n",
    "\n",
    "print(simple_calc(1, 3))"
   ]
  },
  {
   "cell_type": "code",
   "execution_count": 31,
   "metadata": {},
   "outputs": [
    {
     "name": "stdout",
     "output_type": "stream",
     "text": [
      "8\n",
      "4\n"
     ]
    }
   ],
   "source": [
    "def power(number, degree=2):\n",
    "    return number ** degree\n",
    "\n",
    "print(power(2, 3))\n",
    "print(power(2))\n",
    "# print(power())"
   ]
  },
  {
   "cell_type": "code",
   "execution_count": 35,
   "metadata": {},
   "outputs": [
    {
     "name": "stdout",
     "output_type": "stream",
     "text": [
      "2 3 7 5 5 7\n"
     ]
    }
   ],
   "source": [
    "def example(x, y, b, a, degree=2, xxx=5):\n",
    "    print(x, y, a, b, degree, xxx)\n",
    "\n",
    "example(2, 3, 5, 7, degree=5)"
   ]
  },
  {
   "cell_type": "code",
   "execution_count": 36,
   "metadata": {},
   "outputs": [
    {
     "name": "stdout",
     "output_type": "stream",
     "text": [
      "hello\n",
      "sdf sdf dfgdf\n"
     ]
    }
   ],
   "source": [
    "print('hello')\n",
    "print('sdf', 'sdf', 'dfgdf')\n",
    "def print(a):\n",
    "    pass\n",
    "\n",
    "def print(a, b, c):\n",
    "    pass"
   ]
  },
  {
   "cell_type": "code",
   "execution_count": 43,
   "metadata": {},
   "outputs": [
    {
     "name": "stdout",
     "output_type": "stream",
     "text": [
      "(2, 5, 9, 3, 42, 12)\n",
      "73\n"
     ]
    }
   ],
   "source": [
    "def sum_all(*args):\n",
    "    print(args)\n",
    "    return sum(args)\n",
    "\n",
    "# print(sum_all(3))\n",
    "# print(sum_all(1, 5, 8, 3))\n",
    "print(sum_all(2, 5, 9, 3, 42, 12))"
   ]
  },
  {
   "cell_type": "code",
   "execution_count": 47,
   "metadata": {},
   "outputs": [
    {
     "name": "stdout",
     "output_type": "stream",
     "text": [
      "Product: phone, price 100\n",
      "Product: laptop, price 200\n",
      "Product: tablet, price 150\n",
      "Product: table, price 50\n"
     ]
    }
   ],
   "source": [
    "def price_list(**kwargs):\n",
    "    # print(kwargs)\n",
    "    for product, price in kwargs.items():\n",
    "        print(f'Product: {product}, price {price}')\n",
    "\n",
    "price_list(phone=100, laptop=200, tablet=150, table=50)"
   ]
  },
  {
   "cell_type": "code",
   "execution_count": 48,
   "metadata": {},
   "outputs": [
    {
     "name": "stdout",
     "output_type": "stream",
     "text": [
      "1\n"
     ]
    }
   ],
   "source": [
    "a = 1\n",
    "\n",
    "def yyy(w):\n",
    "    w += 1\n",
    "\n",
    "yyy(a)\n",
    "print(a)"
   ]
  },
  {
   "cell_type": "code",
   "execution_count": 51,
   "metadata": {},
   "outputs": [
    {
     "name": "stdout",
     "output_type": "stream",
     "text": [
      "1\n"
     ]
    }
   ],
   "source": [
    "a = 1\n",
    "\n",
    "\n",
    "def yyy():\n",
    "    # print(a)\n",
    "    a = 5\n",
    "\n",
    "yyy()\n",
    "print(a)"
   ]
  },
  {
   "cell_type": "code",
   "execution_count": 53,
   "metadata": {},
   "outputs": [
    {
     "name": "stdout",
     "output_type": "stream",
     "text": [
      "2\n"
     ]
    }
   ],
   "source": [
    "a = 1\n",
    "\n",
    "def yyy():\n",
    "    global a\n",
    "    a += 1\n",
    "\n",
    "yyy()\n",
    "print(a)"
   ]
  },
  {
   "cell_type": "code",
   "execution_count": 58,
   "metadata": {},
   "outputs": [
    {
     "name": "stdout",
     "output_type": "stream",
     "text": [
      "0.5\n"
     ]
    },
    {
     "ename": "TypeError",
     "evalue": "unsupported operand type(s) for /: 'str' and 'str'",
     "output_type": "error",
     "traceback": [
      "\u001b[0;31m---------------------------------------------------------------------------\u001b[0m",
      "\u001b[0;31mTypeError\u001b[0m                                 Traceback (most recent call last)",
      "\u001b[0;32m/tmp/ipykernel_3139468/4248243492.py\u001b[0m in \u001b[0;36m<module>\u001b[0;34m\u001b[0m\n\u001b[1;32m      3\u001b[0m \u001b[0;34m\u001b[0m\u001b[0m\n\u001b[1;32m      4\u001b[0m \u001b[0mprint\u001b[0m\u001b[0;34m(\u001b[0m\u001b[0mdiv_me\u001b[0m\u001b[0;34m(\u001b[0m\u001b[0;36m2\u001b[0m\u001b[0;34m,\u001b[0m \u001b[0;36m4\u001b[0m\u001b[0;34m)\u001b[0m\u001b[0;34m)\u001b[0m\u001b[0;34m\u001b[0m\u001b[0;34m\u001b[0m\u001b[0m\n\u001b[0;32m----> 5\u001b[0;31m \u001b[0mprint\u001b[0m\u001b[0;34m(\u001b[0m\u001b[0mdiv_me\u001b[0m\u001b[0;34m(\u001b[0m\u001b[0;34m'sdfsdf'\u001b[0m\u001b[0;34m,\u001b[0m \u001b[0;34m'sdfsdf'\u001b[0m\u001b[0;34m)\u001b[0m\u001b[0;34m)\u001b[0m\u001b[0;34m\u001b[0m\u001b[0;34m\u001b[0m\u001b[0m\n\u001b[0m",
      "\u001b[0;32m/tmp/ipykernel_3139468/4248243492.py\u001b[0m in \u001b[0;36mdiv_me\u001b[0;34m(x, y)\u001b[0m\n\u001b[1;32m      1\u001b[0m \u001b[0;32mdef\u001b[0m \u001b[0mdiv_me\u001b[0m\u001b[0;34m(\u001b[0m\u001b[0mx\u001b[0m\u001b[0;34m:\u001b[0m \u001b[0mint\u001b[0m\u001b[0;34m,\u001b[0m \u001b[0my\u001b[0m\u001b[0;34m:\u001b[0m \u001b[0mint\u001b[0m\u001b[0;34m)\u001b[0m\u001b[0;34m:\u001b[0m\u001b[0;34m\u001b[0m\u001b[0;34m\u001b[0m\u001b[0m\n\u001b[0;32m----> 2\u001b[0;31m     \u001b[0;32mreturn\u001b[0m \u001b[0mx\u001b[0m \u001b[0;34m/\u001b[0m \u001b[0my\u001b[0m\u001b[0;34m\u001b[0m\u001b[0;34m\u001b[0m\u001b[0m\n\u001b[0m\u001b[1;32m      3\u001b[0m \u001b[0;34m\u001b[0m\u001b[0m\n\u001b[1;32m      4\u001b[0m \u001b[0mprint\u001b[0m\u001b[0;34m(\u001b[0m\u001b[0mdiv_me\u001b[0m\u001b[0;34m(\u001b[0m\u001b[0;36m2\u001b[0m\u001b[0;34m,\u001b[0m \u001b[0;36m4\u001b[0m\u001b[0;34m)\u001b[0m\u001b[0;34m)\u001b[0m\u001b[0;34m\u001b[0m\u001b[0;34m\u001b[0m\u001b[0m\n\u001b[1;32m      5\u001b[0m \u001b[0mprint\u001b[0m\u001b[0;34m(\u001b[0m\u001b[0mdiv_me\u001b[0m\u001b[0;34m(\u001b[0m\u001b[0;34m'sdfsdf'\u001b[0m\u001b[0;34m,\u001b[0m \u001b[0;34m'sdfsdf'\u001b[0m\u001b[0;34m)\u001b[0m\u001b[0;34m)\u001b[0m\u001b[0;34m\u001b[0m\u001b[0;34m\u001b[0m\u001b[0m\n",
      "\u001b[0;31mTypeError\u001b[0m: unsupported operand type(s) for /: 'str' and 'str'"
     ]
    }
   ],
   "source": [
    "def div_me(x: int, y: int):\n",
    "    return x / y\n",
    "\n",
    "print(div_me(2, 4))\n",
    "print(div_me('sdfsdf', 'sdfsdf'))"
   ]
  }
 ],
 "metadata": {
  "kernelspec": {
   "display_name": "Python 3",
   "language": "python",
   "name": "python3"
  },
  "language_info": {
   "codemirror_mode": {
    "name": "ipython",
    "version": 3
   },
   "file_extension": ".py",
   "mimetype": "text/x-python",
   "name": "python",
   "nbconvert_exporter": "python",
   "pygments_lexer": "ipython3",
   "version": "3.10.6"
  },
  "orig_nbformat": 4
 },
 "nbformat": 4,
 "nbformat_minor": 2
}
