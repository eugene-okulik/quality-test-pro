{
 "cells": [
  {
   "attachments": {},
   "cell_type": "markdown",
   "metadata": {},
   "source": [
    "# Decorators"
   ]
  },
  {
   "cell_type": "code",
   "execution_count": 6,
   "metadata": {},
   "outputs": [
    {
     "name": "stdout",
     "output_type": "stream",
     "text": [
      "4\n",
      "<function my_funct at 0x7fcb2c21ca60>\n",
      "4\n",
      "5\n"
     ]
    }
   ],
   "source": [
    "def my_funct(x):\n",
    "    print(x + 2)\n",
    "\n",
    "my_funct(2)\n",
    "print(my_funct)\n",
    "new_funct = my_funct\n",
    "new_funct(2)\n",
    "my_funct(3)"
   ]
  },
  {
   "cell_type": "code",
   "execution_count": 11,
   "metadata": {},
   "outputs": [
    {
     "name": "stdout",
     "output_type": "stream",
     "text": [
      "<function my_funct2 at 0x7fcb0bc90040>\n",
      "hello\n",
      "<function my_funct2 at 0x7fcb0bc90040>\n"
     ]
    }
   ],
   "source": [
    "def my_funct2():\n",
    "    return 'hello'\n",
    "\n",
    "print(my_funct2)\n",
    "print(my_funct2())\n",
    "new_funct2 = my_funct2\n",
    "print(new_funct2)"
   ]
  },
  {
   "cell_type": "code",
   "execution_count": 14,
   "metadata": {},
   "outputs": [
    {
     "name": "stdout",
     "output_type": "stream",
     "text": [
      "hello\n"
     ]
    }
   ],
   "source": [
    "def my_funct3():\n",
    "\n",
    "    def hello():\n",
    "        return 'hello'\n",
    "    \n",
    "    return hello()\n",
    "    \n",
    "\n",
    "print(my_funct3())"
   ]
  },
  {
   "cell_type": "code",
   "execution_count": 21,
   "metadata": {},
   "outputs": [
    {
     "name": "stdout",
     "output_type": "stream",
     "text": [
      "<function my_funct4.<locals>.hello at 0x7fcb0bc903a0>\n",
      "hello\n",
      "hello\n"
     ]
    }
   ],
   "source": [
    "def my_funct4():\n",
    "\n",
    "    def hello():\n",
    "        return 'hello'\n",
    "    \n",
    "    return hello\n",
    "\n",
    "\n",
    "new_funct4 = my_funct4()\n",
    "print(new_funct4)\n",
    "print(new_funct4())\n",
    "print(my_funct4()())\n"
   ]
  },
  {
   "cell_type": "code",
   "execution_count": 25,
   "metadata": {},
   "outputs": [
    {
     "name": "stdout",
     "output_type": "stream",
     "text": [
      "simple\n",
      "simple2\n",
      "before function\n",
      "simple\n",
      "after function\n",
      "before function\n",
      "simple2\n",
      "after function\n"
     ]
    }
   ],
   "source": [
    "def my_funct5(funct):\n",
    "    print('before function')\n",
    "    funct()\n",
    "    print('after function')\n",
    "\n",
    "\n",
    "def simple():\n",
    "    print('simple')\n",
    "\n",
    "def simple2():\n",
    "    print('simple2')\n",
    "\n",
    "\n",
    "simple()\n",
    "simple2()\n",
    "my_funct5(simple)\n",
    "my_funct5(simple2)\n"
   ]
  },
  {
   "cell_type": "code",
   "execution_count": 34,
   "metadata": {},
   "outputs": [
    {
     "name": "stdout",
     "output_type": "stream",
     "text": [
      "before\n",
      "simple\n",
      "after\n"
     ]
    }
   ],
   "source": [
    "def add_logs(func):\n",
    "\n",
    "    def wrapper():\n",
    "        print('before')\n",
    "        func()\n",
    "        print('after')\n",
    "\n",
    "    return wrapper\n",
    "\n",
    "\n",
    "def simple():\n",
    "    print('simple')\n",
    "\n",
    "# simple()\n",
    "simple = add_logs(simple)\n",
    "simple()"
   ]
  },
  {
   "cell_type": "code",
   "execution_count": 39,
   "metadata": {},
   "outputs": [
    {
     "name": "stdout",
     "output_type": "stream",
     "text": [
      "before simple\n",
      "simple\n",
      "after\n",
      "before simple2\n",
      "simple2\n",
      "after\n",
      "before calc\n",
      "3\n",
      "after\n",
      "before hello\n",
      "hello\n",
      "after\n"
     ]
    }
   ],
   "source": [
    "def add_logs(func):\n",
    "\n",
    "    def wrapper():\n",
    "        print(f'before {func.__name__}')\n",
    "        func()\n",
    "        print('after')\n",
    "\n",
    "    return wrapper\n",
    "\n",
    "\n",
    "@add_logs\n",
    "def simple():\n",
    "    print('simple')\n",
    "\n",
    "@add_logs\n",
    "def simple2():\n",
    "    print('simple2')\n",
    "\n",
    "@add_logs\n",
    "def calc():\n",
    "    print(1 + 2)\n",
    "\n",
    "@add_logs\n",
    "def hello():\n",
    "    print('hello')\n",
    "\n",
    "simple()\n",
    "simple2()\n",
    "calc()\n",
    "hello()"
   ]
  },
  {
   "cell_type": "code",
   "execution_count": 41,
   "metadata": {},
   "outputs": [
    {
     "ename": "TypeError",
     "evalue": "add_logs.<locals>.wrapper() takes 0 positional arguments but 1 was given",
     "output_type": "error",
     "traceback": [
      "\u001b[0;31m---------------------------------------------------------------------------\u001b[0m",
      "\u001b[0;31mTypeError\u001b[0m                                 Traceback (most recent call last)",
      "\u001b[0;32m/tmp/ipykernel_177719/3309373018.py\u001b[0m in \u001b[0;36m<module>\u001b[0;34m\u001b[0m\n\u001b[1;32m     13\u001b[0m     \u001b[0mprint\u001b[0m\u001b[0;34m(\u001b[0m\u001b[0ma\u001b[0m \u001b[0;34m*\u001b[0m \u001b[0;36m2\u001b[0m\u001b[0;34m)\u001b[0m\u001b[0;34m\u001b[0m\u001b[0;34m\u001b[0m\u001b[0m\n\u001b[1;32m     14\u001b[0m \u001b[0;34m\u001b[0m\u001b[0m\n\u001b[0;32m---> 15\u001b[0;31m \u001b[0mcalc\u001b[0m\u001b[0;34m(\u001b[0m\u001b[0ma\u001b[0m\u001b[0;34m)\u001b[0m\u001b[0;34m\u001b[0m\u001b[0;34m\u001b[0m\u001b[0m\n\u001b[0m",
      "\u001b[0;31mTypeError\u001b[0m: add_logs.<locals>.wrapper() takes 0 positional arguments but 1 was given"
     ]
    }
   ],
   "source": [
    "def add_logs(func):\n",
    "\n",
    "    def wrapper():\n",
    "        print(f'before {func.__name__}')\n",
    "        func()\n",
    "        print('after')\n",
    "\n",
    "    return wrapper\n",
    "\n",
    "\n",
    "@add_logs\n",
    "def calc(a):\n",
    "    print(a * 2)\n",
    "\n",
    "calc(a)\n",
    "\n",
    "# add_logs(calc)\n",
    "\n",
    "# print(f'before calc')\n",
    "# calc()\n",
    "# print('after')"
   ]
  },
  {
   "attachments": {},
   "cell_type": "markdown",
   "metadata": {},
   "source": [
    "Если в функцию нужно передать аргументы, то эти же аргументы должны быть добавлены в функцию-обертку."
   ]
  },
  {
   "cell_type": "code",
   "execution_count": 45,
   "metadata": {},
   "outputs": [
    {
     "name": "stdout",
     "output_type": "stream",
     "text": [
      "before calc\n",
      "6\n",
      "after\n"
     ]
    },
    {
     "ename": "TypeError",
     "evalue": "add_logs.<locals>.wrapper() missing 1 required positional argument: 'x'",
     "output_type": "error",
     "traceback": [
      "\u001b[0;31m---------------------------------------------------------------------------\u001b[0m",
      "\u001b[0;31mTypeError\u001b[0m                                 Traceback (most recent call last)",
      "\u001b[0;32m/tmp/ipykernel_177719/3571582866.py\u001b[0m in \u001b[0;36m<module>\u001b[0;34m\u001b[0m\n\u001b[1;32m     22\u001b[0m \u001b[0;34m\u001b[0m\u001b[0m\n\u001b[1;32m     23\u001b[0m \u001b[0mcalc\u001b[0m\u001b[0;34m(\u001b[0m\u001b[0;36m3\u001b[0m\u001b[0;34m)\u001b[0m\u001b[0;34m\u001b[0m\u001b[0;34m\u001b[0m\u001b[0m\n\u001b[0;32m---> 24\u001b[0;31m \u001b[0mhello\u001b[0m\u001b[0;34m(\u001b[0m\u001b[0;34m)\u001b[0m\u001b[0;34m\u001b[0m\u001b[0;34m\u001b[0m\u001b[0m\n\u001b[0m\u001b[1;32m     25\u001b[0m \u001b[0mcalc2\u001b[0m\u001b[0;34m(\u001b[0m\u001b[0;36m2\u001b[0m\u001b[0;34m,\u001b[0m \u001b[0;36m5\u001b[0m\u001b[0;34m)\u001b[0m\u001b[0;34m\u001b[0m\u001b[0;34m\u001b[0m\u001b[0m\n",
      "\u001b[0;31mTypeError\u001b[0m: add_logs.<locals>.wrapper() missing 1 required positional argument: 'x'"
     ]
    }
   ],
   "source": [
    "def add_logs(func):\n",
    "\n",
    "    def wrapper(x):\n",
    "        print(f'before {func.__name__}')\n",
    "        func(x)\n",
    "        print('after')\n",
    "\n",
    "    return wrapper\n",
    "\n",
    "\n",
    "@add_logs\n",
    "def calc(a):\n",
    "    print(a * 2)\n",
    "\n",
    "@add_logs\n",
    "def hello():\n",
    "    print('hello')\n",
    "\n",
    "@add_logs\n",
    "def calc2(a, b):\n",
    "    print(a * b)\n",
    "\n",
    "calc(3)\n",
    "hello()\n",
    "calc2(2, 5)"
   ]
  },
  {
   "attachments": {},
   "cell_type": "markdown",
   "metadata": {},
   "source": [
    "Если мы делаем какой-то универсальный декоратор, то в функцию-обертку нам нужно добавить *args - тогда эта функция сможет работать с любой функцией, с любым количеством аргументов."
   ]
  },
  {
   "cell_type": "code",
   "execution_count": 46,
   "metadata": {},
   "outputs": [
    {
     "name": "stdout",
     "output_type": "stream",
     "text": [
      "before calc\n",
      "6\n",
      "after\n",
      "before hello\n",
      "hello\n",
      "after\n",
      "before calc2\n",
      "10\n",
      "after\n"
     ]
    }
   ],
   "source": [
    "def add_logs(func):\n",
    "\n",
    "    def wrapper(*args):\n",
    "        print(f'before {func.__name__}')\n",
    "        func(*args)\n",
    "        print('after')\n",
    "\n",
    "    return wrapper\n",
    "\n",
    "\n",
    "@add_logs\n",
    "def calc(a):\n",
    "    print(a * 2)\n",
    "\n",
    "@add_logs\n",
    "def hello():\n",
    "    print('hello')\n",
    "\n",
    "@add_logs\n",
    "def calc2(a, b):\n",
    "    print(a * b)\n",
    "\n",
    "calc(3)\n",
    "hello()\n",
    "calc2(2, 5)"
   ]
  },
  {
   "attachments": {},
   "cell_type": "markdown",
   "metadata": {},
   "source": [
    "# List comprehension"
   ]
  },
  {
   "cell_type": "code",
   "execution_count": 47,
   "metadata": {},
   "outputs": [
    {
     "name": "stdout",
     "output_type": "stream",
     "text": [
      "<generator object x at 0x7fcb0bc8de70>\n"
     ]
    }
   ],
   "source": [
    "def x():\n",
    "    yield 1\n",
    "\n",
    "print(x())"
   ]
  },
  {
   "cell_type": "code",
   "execution_count": 56,
   "metadata": {},
   "outputs": [
    {
     "name": "stdout",
     "output_type": "stream",
     "text": [
      "[2, 4, 6, 8, 10]\n",
      "[2, 4, 6, 8, 10]\n",
      "[2, 4, 6, 8, 10]\n",
      "[3, 4, 5, 6, 7, 8, 9, 10, 12]\n",
      "[3, 4, 5, 6, 7, 8, 9, 10, 12]\n",
      "[3, 4, 5, 6, 7, 8, 9, 10, 12]\n"
     ]
    }
   ],
   "source": [
    "my_list = [1, 2, 3, 4, 5, 6, 7, 8, 10]\n",
    "\n",
    "new_list = []\n",
    "for x in my_list:\n",
    "    if x % 2 == 0:\n",
    "        new_list.append(x)\n",
    "\n",
    "print(new_list)\n",
    "new_list = list(filter(lambda x: x % 2 == 0, my_list))\n",
    "print(new_list)\n",
    "new_list = [x for x in my_list if x % 2 == 0]\n",
    "print(new_list)\n",
    "\n",
    "new_list = []\n",
    "for x in my_list:\n",
    "    new_list.append(x + 2)\n",
    "print(new_list)\n",
    "new_list = list(map(lambda x: x + 2, my_list))\n",
    "print(new_list)\n",
    "new_list = [x + 2 for x in my_list]\n",
    "print(new_list)"
   ]
  },
  {
   "cell_type": "code",
   "execution_count": 59,
   "metadata": {},
   "outputs": [
    {
     "name": "stdout",
     "output_type": "stream",
     "text": [
      "<class 'list'> <class 'generator'>\n"
     ]
    }
   ],
   "source": [
    "my_list = [1, 2, 3, 4, 5, 6, 7, 8, 10]\n",
    "\n",
    "new_list = [x + 2 for x in my_list]\n",
    "new_tup = (x + 2 for x in my_list)\n",
    "\n",
    "def new_tup():\n",
    "    for x in my_list:\n",
    "        yield x\n",
    "\n",
    "print(type(new_list), type(new_tup()))"
   ]
  },
  {
   "cell_type": "code",
   "execution_count": 60,
   "metadata": {},
   "outputs": [
    {
     "name": "stdout",
     "output_type": "stream",
     "text": [
      "{'two': 'jdfhuysd', 'one': 'skjdfhsd'}\n",
      "{'one': 'skdjfhskdjf', 'two': 'jdfiusyfw', 'three': 'dfieurjdf'}\n"
     ]
    }
   ],
   "source": [
    "my_dict = {'two': 'jdfhuysd'}\n",
    "my_dict['one'] = 'skjdfhsd'\n",
    "print(my_dict)\n",
    "my_dict = dict(one='skdjfhskdjf', two='jdfiusyfw', three='dfieurjdf')\n",
    "print(my_dict)"
   ]
  },
  {
   "cell_type": "code",
   "execution_count": 65,
   "metadata": {},
   "outputs": [
    {
     "name": "stdout",
     "output_type": "stream",
     "text": [
      "{'USA': 23, 'Hawaii': 33, 'Cuba': 35, 'qwer': -1}\n",
      "{'one': 'ksjdf', 'two': 'weioweir'}\n",
      "[('USA', 23), ('Hawaii', 33), ('Cuba', 35), ('qwer', -1)]\n",
      "{'USA': 23, 'Hawaii': 33, 'Cuba': 35, 'qwer': -1}\n"
     ]
    }
   ],
   "source": [
    "countries = ['USA', 'Hawaii', 'Cuba', 'qwer']\n",
    "temps = [23, 33, 35, -1]\n",
    "new_dict = {}\n",
    "for count in range(len(countries)):\n",
    "    new_dict[countries[count]] = temps[count]\n",
    "\n",
    "print(new_dict)\n",
    "\n",
    "data = [('one', 'ksjdf'), ('two', 'weioweir')]\n",
    "new_dict2 = dict(data)\n",
    "print(new_dict2)\n",
    "pairs = list(zip(countries, temps))\n",
    "print(pairs)\n",
    "countriest_temps = dict(pairs)\n",
    "print(countriest_temps)"
   ]
  }
 ],
 "metadata": {
  "kernelspec": {
   "display_name": "Python 3",
   "language": "python",
   "name": "python3"
  },
  "language_info": {
   "codemirror_mode": {
    "name": "ipython",
    "version": 3
   },
   "file_extension": ".py",
   "mimetype": "text/x-python",
   "name": "python",
   "nbconvert_exporter": "python",
   "pygments_lexer": "ipython3",
   "version": "3.10.6"
  },
  "orig_nbformat": 4
 },
 "nbformat": 4,
 "nbformat_minor": 2
}
