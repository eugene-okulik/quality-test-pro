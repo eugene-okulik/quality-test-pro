{
 "cells": [
  {
   "attachments": {},
   "cell_type": "markdown",
   "metadata": {},
   "source": [
    "### Распаковка\n",
    "Используется для того, чтобы распределить элементы коллекции (список, словарь, множество, кортеж) по отдельным переменным.  \n",
    "Используется только в ситуациях, когда вы наверняка знаете количество элементов, содержащихся в коллекции."
   ]
  },
  {
   "cell_type": "code",
   "execution_count": 5,
   "metadata": {},
   "outputs": [
    {
     "name": "stdout",
     "output_type": "stream",
     "text": [
      "1 3 1 3\n"
     ]
    }
   ],
   "source": [
    "my_list = [1, 3]\n",
    "a = my_list[0]\n",
    "b = my_list[1]\n",
    "c, d = my_list\n",
    "print(a, b, c, d)"
   ]
  },
  {
   "attachments": {},
   "cell_type": "markdown",
   "metadata": {},
   "source": [
    "### Срез  \n",
    "Извлечение среза позволяет взять из списка определенную его часть"
   ]
  },
  {
   "cell_type": "code",
   "execution_count": 20,
   "metadata": {},
   "outputs": [
    {
     "name": "stdout",
     "output_type": "stream",
     "text": [
      "[1, 3, 5, 2, 5, 7, 1, 3]\n",
      "[1, 3, 5]\n",
      "[1, 3, 5]\n",
      "[5, 2, 5, 7, 1, 3]\n",
      "[1, 3, 5, 2, 5, 7, 1, 3]\n",
      "[3, 1, 7, 5, 2, 5, 3, 1]\n",
      "1\n",
      "[5, 2, 5, 7]\n",
      "[5, 5, 1]\n",
      "[5, 2, 5, 7, 1]\n",
      "[1, 7, 5]\n"
     ]
    }
   ],
   "source": [
    "lll = [1, 3, 5, 2, 5, 7 ,1, 3]\n",
    "print(lll)\n",
    "print(lll[0:3])\n",
    "print(lll[:3])\n",
    "print(lll[2:])\n",
    "print(lll[:])\n",
    "print(lll[::-1])  # получение всех элементов наоборот (начиная с конца)\n",
    "print(lll[-2])\n",
    "print(lll[2:-2])\n",
    "print(lll[2:-1:2])\n",
    "print(lll[2:-1:1])\n",
    "print(lll[-2:-5:-1])"
   ]
  },
  {
   "attachments": {},
   "cell_type": "markdown",
   "metadata": {},
   "source": [
    "## Методы строк\n",
    "Со строкой можно делать многое из того, что можно делать с другими коллекциями, т.к. строка это по сути тоже коллекция - последовательность символов. Больше всего функциональность строки похожа на функциональность кортежей."
   ]
  },
  {
   "cell_type": "code",
   "execution_count": 29,
   "metadata": {},
   "outputs": [
    {
     "name": "stdout",
     "output_type": "stream",
     "text": [
      "19\n",
      "3\n",
      "3\n",
      "3\n",
      "3\n",
      "2\n",
      " long\n",
      "long\n",
      "long\n"
     ]
    }
   ],
   "source": [
    "text = 'my long long string'\n",
    "print(len(text))\n",
    "print(text.index('l'))\n",
    "print(text.count('n'))\n",
    "print(text.count(' '))\n",
    "print(text.index('long'))\n",
    "print(text.count('long'))\n",
    "print(text[2:7])\n",
    "long_idx = text.index('long')\n",
    "long_len = len('long')\n",
    "print(text[long_idx:long_idx + long_len])\n",
    "print(text[long_idx:long_idx + len('long')])\n",
    "print(text[text.index('long'):text.index('long') + len('long')])\n"
   ]
  },
  {
   "cell_type": "code",
   "execution_count": 32,
   "metadata": {},
   "outputs": [
    {
     "name": "stdout",
     "output_type": "stream",
     "text": [
      "This text with messed up capitalization!\n",
      "This Text With Messed Up Capitalization!\n",
      "THIS TEXT WITH MESSED UP CAPITALIZATION!\n",
      "this text with messed up capitalization!\n"
     ]
    }
   ],
   "source": [
    "txt = \"ThIs tExt wiTh meSsEd uP CaPITalIZatiOn!\"\n",
    "print(txt.capitalize()) # Делает первую букву предложения заглавной\n",
    "print(txt.title())  # Делает каждую первую букву заглавной\n",
    "print(txt.upper())  # Делает все буквы большими\n",
    "print(txt.lower())  # Делает все буквы маленькими"
   ]
  },
  {
   "cell_type": "code",
   "execution_count": 42,
   "metadata": {},
   "outputs": [
    {
     "name": "stdout",
     "output_type": "stream",
     "text": [
      "Hello universe!\n",
      ".word .\n"
     ]
    }
   ],
   "source": [
    "msg = 'Hello world!'\n",
    "msg = msg.replace('world', 'universe')\n",
    "print(msg)\n",
    "\n",
    "txt = ' word '\n",
    "# txt = txt.replace(' ', '')\n",
    "# txt = txt.strip()\n",
    "# txt = txt.rstrip()\n",
    "txt = txt.lstrip()\n",
    "print('.' + txt + '.')"
   ]
  },
  {
   "attachments": {},
   "cell_type": "markdown",
   "metadata": {},
   "source": [
    "# Строка ←→ список"
   ]
  },
  {
   "cell_type": "code",
   "execution_count": 51,
   "metadata": {},
   "outputs": [
    {
     "name": "stdout",
     "output_type": "stream",
     "text": [
      "['some', 'little', 'text']\n",
      "['some', 'little', 'text']\n",
      "['some', 'text']\n",
      "some text\n"
     ]
    }
   ],
   "source": [
    "my_string = 'some little text'\n",
    "my_string2 = 'some, little, text'\n",
    "list_from_text = my_string.split()\n",
    "print(list_from_text)\n",
    "list_from_text2 = my_string2.split(', ')\n",
    "print(list_from_text2)\n",
    "list_from_text.pop(1)\n",
    "print(list_from_text)\n",
    "string_from_list = ' '.join(list_from_text)\n",
    "print(string_from_list)"
   ]
  },
  {
   "attachments": {},
   "cell_type": "markdown",
   "metadata": {},
   "source": [
    "# Форматирование строки"
   ]
  },
  {
   "cell_type": "code",
   "execution_count": 58,
   "metadata": {},
   "outputs": [
    {
     "name": "stdout",
     "output_type": "stream",
     "text": [
      "First word is one, second word is two\n",
      "First word is one, second word is two\n",
      "First word is one, second word is two\n",
      "First word is two, second word is one\n",
      "First word is one, second word is two\n"
     ]
    }
   ],
   "source": [
    "a = 'one'\n",
    "b = 'two'\n",
    "my_text = 'First word is ' + a + ', second word is ' + b\n",
    "print(my_text)\n",
    "my_text = 'First word is %s, second word is %s'\n",
    "print(my_text % (a, b))\n",
    "\n",
    "my_text = 'First word is {}, second word is {}'\n",
    "print(my_text.format(a, b))\n",
    "\n",
    "my_text = 'First word is {1}, second word is {0}'  # String format\n",
    "print(my_text.format(a, b))\n",
    "\n",
    "my_text = f'First word is {a}, second word is {b}'  # f-string\n",
    "print(my_text)"
   ]
  },
  {
   "cell_type": "code",
   "execution_count": 63,
   "metadata": {},
   "outputs": [
    {
     "name": "stdout",
     "output_type": "stream",
     "text": [
      "My name is Bob\n"
     ]
    }
   ],
   "source": [
    "template = 'My name is {0}'\n",
    "# ftemplate = f'My name is {name}'\n",
    "name = input('Enter your name: ')\n",
    "print(template.format(name))"
   ]
  },
  {
   "attachments": {},
   "cell_type": "markdown",
   "metadata": {},
   "source": [
    "# Условия"
   ]
  },
  {
   "cell_type": "code",
   "execution_count": 68,
   "metadata": {},
   "outputs": [
    {
     "name": "stdout",
     "output_type": "stream",
     "text": [
      "Много\n"
     ]
    }
   ],
   "source": [
    "many = 3\n",
    "user_input = int(input('your positive number: '))\n",
    "if user_input == 1:\n",
    "    print('Один')\n",
    "elif user_input == 2:\n",
    "    print('Два')\n",
    "else:\n",
    "    print('Много')"
   ]
  },
  {
   "cell_type": "code",
   "execution_count": null,
   "metadata": {},
   "outputs": [],
   "source": [
    "day = 'mon'\n",
    "user_input = int(input('your positive number: '))\n",
    "if user_input == 1:\n",
    "    print('Один')\n",
    "elif user_input == 2:\n",
    "    print('Два')\n",
    "else:\n",
    "    if day == 'mon':\n",
    "        print('Огого')\n",
    "    else:\n",
    "        print('Много')"
   ]
  },
  {
   "attachments": {},
   "cell_type": "markdown",
   "metadata": {},
   "source": [
    "# Цикл for"
   ]
  },
  {
   "cell_type": "code",
   "execution_count": 75,
   "metadata": {},
   "outputs": [
    {
     "name": "stdout",
     "output_type": "stream",
     "text": [
      "John\n",
      "Tom\n",
      "James\n",
      "Jhn\n",
      "mmmmmmmmm\n",
      "Tm\n",
      "James\n",
      "Bb\n",
      "mmmmmmmmm\n",
      "Jim\n"
     ]
    }
   ],
   "source": [
    "my_list = ['John', 'Tom', 'James', 'Bob', 'Jim']\n",
    "print(my_list[0])\n",
    "print(my_list[1])\n",
    "print(my_list[2])\n",
    "\n",
    "for name in my_list:\n",
    "    name = name.replace('o', '')\n",
    "    if name.endswith('m'):\n",
    "        print('mmmmmmmmm')\n",
    "    print(name)\n",
    "\n"
   ]
  },
  {
   "cell_type": "code",
   "execution_count": 76,
   "metadata": {},
   "outputs": [
    {
     "name": "stdout",
     "output_type": "stream",
     "text": [
      "John\n",
      "Tom\n",
      "James\n"
     ]
    }
   ],
   "source": [
    "my_dict = {'John': 132, 'Tom': 167, 'James': 234}\n",
    "\n",
    "for x in my_dict:\n",
    "    print(x)"
   ]
  },
  {
   "cell_type": "code",
   "execution_count": 77,
   "metadata": {},
   "outputs": [
    {
     "name": "stdout",
     "output_type": "stream",
     "text": [
      "132\n",
      "167\n",
      "234\n"
     ]
    }
   ],
   "source": [
    "my_dict = {'John': 132, 'Tom': 167, 'James': 234}\n",
    "\n",
    "for x in my_dict.values():\n",
    "    print(x)"
   ]
  },
  {
   "cell_type": "code",
   "execution_count": 79,
   "metadata": {},
   "outputs": [
    {
     "name": "stdout",
     "output_type": "stream",
     "text": [
      "('John', 132)\n",
      "('Tom', 167)\n",
      "('James', [234, 222])\n"
     ]
    }
   ],
   "source": [
    "my_dict = {'John': 132, 'Tom': 167, 'James': [234, 222]}\n",
    "\n",
    "for x in my_dict.items():\n",
    "    print(x)"
   ]
  },
  {
   "cell_type": "code",
   "execution_count": 81,
   "metadata": {},
   "outputs": [
    {
     "name": "stdout",
     "output_type": "stream",
     "text": [
      "John 132\n",
      "name is John, value is 132\n",
      "Tom 167\n",
      "name is Tom, value is 167\n",
      "James [234, 222]\n",
      "name is James, value is [234, 222]\n"
     ]
    }
   ],
   "source": [
    "my_dict = {'John': 132, 'Tom': 167, 'James': [234, 222]}\n",
    "\n",
    "for x in my_dict.items():\n",
    "    key, value = x\n",
    "    print(key, value)\n",
    "    print(f'name is {key}, value is {value}')"
   ]
  },
  {
   "cell_type": "code",
   "execution_count": 82,
   "metadata": {},
   "outputs": [
    {
     "name": "stdout",
     "output_type": "stream",
     "text": [
      "John 132\n",
      "name is John, value is 132\n",
      "Tom 167\n",
      "name is Tom, value is 167\n",
      "James [234, 222]\n",
      "name is James, value is [234, 222]\n"
     ]
    }
   ],
   "source": [
    "my_dict = {'John': 132, 'Tom': 167, 'James': [234, 222]}\n",
    "\n",
    "for key, value in my_dict.items():\n",
    "    print(key, value)\n",
    "    print(f'name is {key}, value is {value}')"
   ]
  },
  {
   "attachments": {},
   "cell_type": "markdown",
   "metadata": {},
   "source": [
    "# Цикл while"
   ]
  },
  {
   "cell_type": "code",
   "execution_count": 83,
   "metadata": {},
   "outputs": [
    {
     "name": "stdout",
     "output_type": "stream",
     "text": [
      "hello\n",
      "hello\n",
      "hello\n",
      "hello\n",
      "hello\n"
     ]
    }
   ],
   "source": [
    "i = 0\n",
    "\n",
    "while i < 5:\n",
    "    print('hello')\n",
    "    i += 1\n",
    "\n"
   ]
  },
  {
   "cell_type": "code",
   "execution_count": 84,
   "metadata": {},
   "outputs": [
    {
     "name": "stdout",
     "output_type": "stream",
     "text": [
      "hello\n",
      "hello\n",
      "hello\n",
      "hello\n",
      "hello\n",
      "hello\n",
      "hello\n",
      "hello\n",
      "hello\n",
      "hello\n",
      "hello\n"
     ]
    }
   ],
   "source": [
    "i = 0\n",
    "while True:\n",
    "    print('hello')\n",
    "    i += 1\n",
    "    if i > 10:\n",
    "        break"
   ]
  },
  {
   "cell_type": "code",
   "execution_count": 87,
   "metadata": {},
   "outputs": [
    {
     "name": "stdout",
     "output_type": "stream",
     "text": [
      "1 hello\n",
      "3 hello\n",
      "5 hello\n",
      "7 hello\n",
      "9 hello\n"
     ]
    }
   ],
   "source": [
    "i = 0\n",
    "while True:\n",
    "    i += 1\n",
    "    if i > 10:\n",
    "        break\n",
    "    if i % 2 == 0:\n",
    "        continue\n",
    "    print(i, 'hello')\n",
    "    "
   ]
  }
 ],
 "metadata": {
  "kernelspec": {
   "display_name": "Python 3",
   "language": "python",
   "name": "python3"
  },
  "language_info": {
   "codemirror_mode": {
    "name": "ipython",
    "version": 3
   },
   "file_extension": ".py",
   "mimetype": "text/x-python",
   "name": "python",
   "nbconvert_exporter": "python",
   "pygments_lexer": "ipython3",
   "version": "3.10.6"
  },
  "orig_nbformat": 4
 },
 "nbformat": 4,
 "nbformat_minor": 2
}
