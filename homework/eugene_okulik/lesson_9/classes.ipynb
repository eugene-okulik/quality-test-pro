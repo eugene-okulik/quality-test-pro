{
 "cells": [
  {
   "cell_type": "code",
   "execution_count": 34,
   "metadata": {},
   "outputs": [],
   "source": [
    "class Group:\n",
    "    pupils = True\n",
    "    director = 'Marivanna'\n",
    "    school_name = '42'\n",
    "\n",
    "    def __init__(self, title, pupils_count, group_leader):\n",
    "        self.title = title\n",
    "        self.pupils_count = pupils_count\n",
    "        self.group_leader = group_leader\n",
    "        # self.size = self.large_or_not()\n",
    "        self.large_or_not()\n",
    "\n",
    "    def large_or_not(self):\n",
    "        if self.pupils_count > 15:\n",
    "            # return 'large'\n",
    "            self.size = 'large'\n",
    "        else:\n",
    "            # return 'small'\n",
    "            self.size = 'small'\n",
    "\n",
    "    def study(self):\n",
    "        print('read a book')\n",
    "        print('remember')\n",
    "        print('practice')\n",
    "\n",
    "    def move(self):\n",
    "        pass"
   ]
  },
  {
   "cell_type": "code",
   "execution_count": 32,
   "metadata": {},
   "outputs": [],
   "source": [
    "class Primary(Group):\n",
    "    max_age = 11\n",
    "    min_age = 5\n",
    "    building_section = 'left'\n",
    "    subjects_count = 15\n",
    "    \n",
    "    def __init__(self, title, pupils_count, group_leader, classroom):\n",
    "        super().__init__(title, pupils_count, group_leader)\n",
    "        self.classroom = classroom\n",
    "\n",
    "\n",
    "    def move(self):\n",
    "        print('run fast')\n",
    "\n",
    "class High(Group):\n",
    "    max_age = 18\n",
    "    min_age = 14\n",
    "    subjects_count = 20\n",
    "\n",
    "    def move(self):\n",
    "        print('go slowly')\n",
    "    \n"
   ]
  },
  {
   "cell_type": "code",
   "execution_count": 35,
   "metadata": {},
   "outputs": [
    {
     "name": "stdout",
     "output_type": "stream",
     "text": [
      "run fast\n",
      "go slowly\n",
      "read a book\n",
      "remember\n",
      "practice\n",
      "read a book\n",
      "remember\n",
      "practice\n",
      "11\n",
      "18\n",
      "Marivanna\n",
      "OS\n",
      "1A\n",
      "2Б\n",
      "11A\n",
      "103\n",
      "5\n",
      "7\n",
      "5\n",
      "small\n",
      "large\n",
      "small\n"
     ]
    }
   ],
   "source": [
    "first_a = Primary('1A', 15, 'OS', 103)\n",
    "second_b = Primary('2Б', 17, 'TL', 105)\n",
    "eleven_a = High('11A', 15, 'SH')\n",
    "\n",
    "first_a.move()\n",
    "eleven_a.move()\n",
    "first_a.study()\n",
    "eleven_a.study()\n",
    "print(first_a.max_age)\n",
    "print(eleven_a.max_age)\n",
    "print(first_a.director)\n",
    "print(first_a.group_leader)\n",
    "print(first_a.title)\n",
    "print(second_b.title)\n",
    "print(eleven_a.title)\n",
    "print(first_a.classroom)\n",
    "print(first_a.min_age)\n",
    "first_a.min_age = 7\n",
    "print(first_a.min_age)\n",
    "del first_a.min_age\n",
    "print(first_a.min_age)\n",
    "print(first_a.size)\n",
    "print(second_b.size)\n",
    "print(eleven_a.size)\n",
    "# a = 1\n",
    "# print(a)\n",
    "# del a\n",
    "# print(a)"
   ]
  }
 ],
 "metadata": {
  "kernelspec": {
   "display_name": "Python 3",
   "language": "python",
   "name": "python3"
  },
  "language_info": {
   "codemirror_mode": {
    "name": "ipython",
    "version": 3
   },
   "file_extension": ".py",
   "mimetype": "text/x-python",
   "name": "python",
   "nbconvert_exporter": "python",
   "pygments_lexer": "ipython3",
   "version": "3.10.6"
  },
  "orig_nbformat": 4
 },
 "nbformat": 4,
 "nbformat_minor": 2
}
