{
 "cells": [
  {
   "attachments": {},
   "cell_type": "markdown",
   "metadata": {},
   "source": [
    "# Функции генераторы"
   ]
  },
  {
   "cell_type": "code",
   "execution_count": 1,
   "metadata": {},
   "outputs": [
    {
     "data": {
      "text/plain": [
       "8"
      ]
     },
     "execution_count": 1,
     "metadata": {},
     "output_type": "execute_result"
    }
   ],
   "source": [
    "def calc(a, b):\n",
    "    return a * b\n",
    "\n",
    "calc(2, 4)"
   ]
  },
  {
   "cell_type": "code",
   "execution_count": 2,
   "metadata": {},
   "outputs": [
    {
     "name": "stdout",
     "output_type": "stream",
     "text": [
      "[2, 4, 10, 14, 8, 18]\n"
     ]
    }
   ],
   "source": [
    "my_list = [1, 2, 5, 7, 4, 9]\n",
    "\n",
    "def mult_list(your_list):\n",
    "    result_list = []\n",
    "    for x in your_list:\n",
    "        result_list.append(x * 2)\n",
    "    return result_list\n",
    "\n",
    "print(mult_list(my_list))"
   ]
  },
  {
   "cell_type": "code",
   "execution_count": null,
   "metadata": {},
   "outputs": [],
   "source": [
    "filenames = ['1.log', '2.log', '3.log']  # И таких файлов штук 500, каждый по 1-5 Мб\n",
    "\n",
    "def files_content(your_logs):\n",
    "    result_list = []\n",
    "    for log_content in your_logs:\n",
    "        result_list.append(log_content)\n",
    "    return result_list"
   ]
  },
  {
   "cell_type": "code",
   "execution_count": null,
   "metadata": {},
   "outputs": [],
   "source": [
    "def files_content(your_logs):\n",
    "    for log_content in your_logs:\n",
    "        yield log_content"
   ]
  },
  {
   "cell_type": "code",
   "execution_count": 5,
   "metadata": {},
   "outputs": [
    {
     "name": "stdout",
     "output_type": "stream",
     "text": [
      "<generator object numbers at 0x7fe54e260660>\n",
      "1\n",
      "2\n",
      "5\n",
      "7\n",
      "4\n",
      "9\n",
      "[1, 2, 5, 7, 4, 9]\n"
     ]
    }
   ],
   "source": [
    "my_list = [1, 2, 5, 7, 4, 9]\n",
    "\n",
    "def numbers(your_list):\n",
    "    for x in your_list:\n",
    "        yield x\n",
    "\n",
    "print(numbers(my_list))\n",
    "for value in numbers(my_list):\n",
    "    print(value)\n",
    "\n",
    "print(list(numbers(my_list)))"
   ]
  },
  {
   "cell_type": "code",
   "execution_count": 15,
   "metadata": {},
   "outputs": [
    {
     "name": "stdout",
     "output_type": "stream",
     "text": [
      "Caused by: org.springframework.dao.DataAccessResourceFailureException: PreparedStatementCallback; SQL [select type, population, urban, gdp\n",
      "\n",
      "Caused by: org.springframework.dao.DataAccessResourceFailureException: PreparedStatementCallback; SQL [select type, population, urban, gdp\n",
      "\n",
      "Caused by: org.springframework.dao.DataAccessResourceFailureException: PreparedStatementCallback; SQL [select type, population, urban, gdp\n",
      "\n",
      "Caused by: org.springframework.dao.DataAccessResourceFailureException: PreparedStatementCallback; SQL [select type, population, urban, gdp\n",
      "\n",
      "Caused by: org.springframework.dao.DataAccessResourceFailureException: PreparedStatementCallback; SQL [select type, population, urban, gdp\n",
      "\n",
      "Caused by: org.springframework.dao.DataAccessResourceFailureException: PreparedStatementCallback; SQL [select type, population, urban, gdp\n",
      "\n",
      "Caused by: org.springframework.dao.DataAccessResourceFailureException: PreparedStatementCallback; SQL [select type, population, urban, gdp\n",
      "\n",
      "Caused by: org.springframework.dao.DataAccessResourceFailureException: PreparedStatementCallback; SQL [select type, population, urban, gdp\n",
      "\n"
     ]
    }
   ],
   "source": [
    "# with open('rpe-api-error.2022-02-03.0.log') as data_file:\n",
    "#     for line in data_file.readlines():\n",
    "#         if 'DataAccessResourceFailureException' in line:\n",
    "#             print(line)\n",
    "\n",
    "\n",
    "def read_file(filename):\n",
    "    with open(filename) as data_file:\n",
    "        for line in data_file.readlines():\n",
    "            yield line\n",
    "\n",
    "for line in read_file('rpe-api-error.2022-02-03.0.log'):\n",
    "    if 'DataAccessResourceFailureException' in line:\n",
    "        print(line)"
   ]
  },
  {
   "cell_type": "code",
   "execution_count": 19,
   "metadata": {},
   "outputs": [
    {
     "name": "stdout",
     "output_type": "stream",
     "text": [
      "Caused by: org.springframework.dao.DataAccessResourceFailureException: PreparedStatementCallback; SQL [select type, population, urban, gdp\n",
      "\n",
      "Caused by: org.springframework.dao.DataAccessResourceFailureException: PreparedStatementCallback; SQL [select type, population, urban, gdp\n",
      "\n",
      "Caused by: org.springframework.dao.DataAccessResourceFailureException: PreparedStatementCallback; SQL [select type, population, urban, gdp\n",
      "\n",
      "Caused by: org.springframework.dao.DataAccessResourceFailureException: PreparedStatementCallback; SQL [select type, population, urban, gdp\n",
      "\n",
      "Caused by: org.springframework.dao.DataAccessResourceFailureException: PreparedStatementCallback; SQL [select type, population, urban, gdp\n",
      "\n",
      "Caused by: org.springframework.dao.DataAccessResourceFailureException: PreparedStatementCallback; SQL [select type, population, urban, gdp\n",
      "\n",
      "Caused by: org.springframework.dao.DataAccessResourceFailureException: PreparedStatementCallback; SQL [select type, population, urban, gdp\n",
      "\n"
     ]
    }
   ],
   "source": [
    "def read_file(filename):\n",
    "    with open(filename) as data_file:\n",
    "        while data_file.readline():\n",
    "            yield data_file.readline()\n",
    "\n",
    "for line in read_file('rpe-api-error.2022-02-03.0.log'):\n",
    "    if 'DataAccessResourceFailureException' in line:\n",
    "        print(line)\n",
    "\n",
    "# with open('rpe-api-error.2022-02-03.0.log') as data_file:\n",
    "#     while data_file.readline():\n",
    "#         if 'DataAccessResourceFailureException' in data_file.readline():\n",
    "#             print(data_file.readline())\n"
   ]
  },
  {
   "cell_type": "code",
   "execution_count": 20,
   "metadata": {},
   "outputs": [
    {
     "name": "stdout",
     "output_type": "stream",
     "text": [
      "Caused by: org.springframework.dao.DataAccessResourceFailureException: PreparedStatementCallback; SQL [select type, population, urban, gdp\n",
      "\n",
      "Caused by: org.springframework.dao.DataAccessResourceFailureException: PreparedStatementCallback; SQL [select type, population, urban, gdp\n",
      "\n",
      "Caused by: org.springframework.dao.DataAccessResourceFailureException: PreparedStatementCallback; SQL [select type, population, urban, gdp\n",
      "\n",
      "Caused by: org.springframework.dao.DataAccessResourceFailureException: PreparedStatementCallback; SQL [select type, population, urban, gdp\n",
      "\n",
      "Caused by: org.springframework.dao.DataAccessResourceFailureException: PreparedStatementCallback; SQL [select type, population, urban, gdp\n",
      "\n",
      "Caused by: org.springframework.dao.DataAccessResourceFailureException: PreparedStatementCallback; SQL [select type, population, urban, gdp\n",
      "\n",
      "Caused by: org.springframework.dao.DataAccessResourceFailureException: PreparedStatementCallback; SQL [select type, population, urban, gdp\n",
      "\n",
      "Caused by: org.springframework.dao.DataAccessResourceFailureException: PreparedStatementCallback; SQL [select type, population, urban, gdp\n",
      "\n"
     ]
    }
   ],
   "source": [
    "with open('rpe-api-error.2022-02-03.0.log') as data_file:\n",
    "    while line := data_file.readline():  # := - морж\n",
    "        if 'DataAccessResourceFailureException' in line:\n",
    "            print(line)"
   ]
  },
  {
   "cell_type": "code",
   "execution_count": 27,
   "metadata": {},
   "outputs": [
    {
     "name": "stdout",
     "output_type": "stream",
     "text": [
      "2\n",
      "1\n",
      "end of operation\n",
      "2\n",
      "end of operation\n",
      "5\n",
      "end of operation\n",
      "7\n",
      "end of operation\n",
      "4\n",
      "end of operation\n",
      "9\n",
      "end of operation\n",
      "the end\n",
      "<generator object numbers at 0x7fe54e2e7300>\n"
     ]
    }
   ],
   "source": [
    "my_list = [1, 2, 5, 7, 4, 9]\n",
    "\n",
    "def numbers(your_list):\n",
    "    for x in your_list:\n",
    "        yield x\n",
    "        print('end of operation')\n",
    "    print('the end')\n",
    "\n",
    "\n",
    "def calc(a, b):\n",
    "    return a * b\n",
    "    print('hello')\n",
    "\n",
    "print(calc(1, 2))\n",
    "\n",
    "for x in numbers(my_list):\n",
    "    print(x)\n",
    "\n",
    "print(numbers(my_list))"
   ]
  }
 ],
 "metadata": {
  "kernelspec": {
   "display_name": "Python 3",
   "language": "python",
   "name": "python3"
  },
  "language_info": {
   "codemirror_mode": {
    "name": "ipython",
    "version": 3
   },
   "file_extension": ".py",
   "mimetype": "text/x-python",
   "name": "python",
   "nbconvert_exporter": "python",
   "pygments_lexer": "ipython3",
   "version": "3.10.6"
  },
  "orig_nbformat": 4
 },
 "nbformat": 4,
 "nbformat_minor": 2
}
