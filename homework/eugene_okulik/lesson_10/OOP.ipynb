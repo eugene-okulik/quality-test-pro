{
 "cells": [
  {
   "attachments": {},
   "cell_type": "markdown",
   "metadata": {},
   "source": [
    "# ООП - Объектно ориентированное программирование"
   ]
  },
  {
   "attachments": {},
   "cell_type": "markdown",
   "metadata": {},
   "source": [
    "## Приципы ООП:\n",
    "- Инкапсуляция\n",
    "- Наследование\n",
    "- Полиморфизм"
   ]
  },
  {
   "attachments": {},
   "cell_type": "markdown",
   "metadata": {},
   "source": [
    "## Инкапсуляция\n",
    "Все данные объекта должны хранится в объекте. Никто не может изменить данные объекта без его ведома."
   ]
  },
  {
   "attachments": {},
   "cell_type": "markdown",
   "metadata": {},
   "source": [
    "## Наследование\n",
    "Объекты и их типы организуют иерархию типов. Дочерние типы наследуют свою функциональность от родительского класса, расширяя и дополняя её."
   ]
  },
  {
   "attachments": {},
   "cell_type": "markdown",
   "metadata": {},
   "source": [
    "## Полиморфизм\n",
    "Способность классов менять своё поведение в зависимости от типов операций и операндов. Полиморфизм в программировании реализуется через перегрузку метода, либо через его переопределение."
   ]
  },
  {
   "cell_type": "code",
   "execution_count": null,
   "metadata": {},
   "outputs": [],
   "source": [
    "# data1.txt\n",
    "{\"Country\": \"Turkey\", \"avg_temp\": 30}\n",
    "# data2.txt\n",
    "{\"Country\": \"Greece\", \"avg_temp\": 28}"
   ]
  },
  {
   "cell_type": "code",
   "execution_count": 6,
   "metadata": {},
   "outputs": [
    {
     "name": "stdout",
     "output_type": "stream",
     "text": [
      "Turkey\n",
      "Greece\n"
     ]
    }
   ],
   "source": [
    "import json\n",
    "\n",
    "def read_file(filename):\n",
    "    data_file = open(filename)\n",
    "    # data = data_file.read()\n",
    "    data = json.load(data_file)\n",
    "    data_file.close()\n",
    "    return data\n",
    "\n",
    "# data = json.loads(data)\n",
    "data1 = read_file('data1.txt')\n",
    "data2 = read_file('data2.txt')\n",
    "print(data1['Country'])\n",
    "\n",
    "print(data2['Country'])"
   ]
  },
  {
   "cell_type": "code",
   "execution_count": 49,
   "metadata": {},
   "outputs": [
    {
     "name": "stdout",
     "output_type": "stream",
     "text": [
      "Turkey30\n",
      "28\n",
      "15\n",
      "30\n",
      "3\n",
      "1\n",
      "5\n",
      "30\n"
     ]
    }
   ],
   "source": [
    "import json\n",
    "\n",
    "class CountryData:\n",
    "    def __init__(self, filename) -> None:\n",
    "        self.__filename = filename\n",
    "        self.__content = self.__read_file()\n",
    "        self.__country = self.__content['Country']\n",
    "        self.__avg_temp = self.__content['avg_temp']\n",
    "        self._example = 1\n",
    "\n",
    "    def __read_file(self):\n",
    "        data_file = open(self.__filename)\n",
    "        data = json.load(data_file)\n",
    "        data_file.close()\n",
    "        return data\n",
    "    \n",
    "    def __str__(self) -> str:\n",
    "        # return str(self.content)\n",
    "        return (\n",
    "            f'File with filename {self.__filename} contains data for '\n",
    "            f'country {self.__country} with data {self.content}'\n",
    "            )\n",
    "    \n",
    "    def __repr__(self) -> str:\n",
    "        # return str(self.content)\n",
    "        return (\n",
    "            f'File with filename {self.__filename} contains data for '\n",
    "            f'country {self.__country} with data {self.content}'\n",
    "            )\n",
    "    \n",
    "    def __add__(self, obj):\n",
    "        return (self.__content, obj.content)\n",
    "    \n",
    "    def __sub__(self, obj):\n",
    "        pass\n",
    "\n",
    "    def __gt__(self, obj):\n",
    "        return self.__avg_temp > obj.avg_temp\n",
    "    \n",
    "    def __ge__(self, obj):\n",
    "        return self.__avg_temp >= obj.avg_temp\n",
    "    \n",
    "    @property\n",
    "    def country(self):\n",
    "        return self.__country + str(self.__avg_temp)\n",
    "    \n",
    "    @property\n",
    "    def avg_temp(self):\n",
    "        return self.__avg_temp\n",
    "    \n",
    "    @avg_temp.setter\n",
    "    def avg_temp(self, value):\n",
    "        self.__avg_temp = value\n",
    "\n",
    "    @avg_temp.deleter\n",
    "    def avg_temp(self):\n",
    "        self.__avg_temp = self.content['avg_temp']\n",
    "    \n",
    "    @property\n",
    "    def content(self):\n",
    "        return self.__content\n",
    "    \n",
    "    @property\n",
    "    def filename(self):\n",
    "        return self.__filename\n",
    "    \n",
    "    \n",
    "data1 = CountryData('data1.txt')\n",
    "data2 = CountryData('data2.txt')\n",
    "data3 = CountryData('data3.txt')\n",
    "print(data1.country)\n",
    "print(data2.avg_temp)\n",
    "print(data3.avg_temp)\n",
    "print(data1.avg_temp)\n",
    "data1.avg_temp = 3\n",
    "print(data1.avg_temp)\n",
    "print(data1._example)\n",
    "data1._example = 5\n",
    "print(data1._example) \n",
    "del data1.avg_temp\n",
    "print(data1.avg_temp)  \n"
   ]
  },
  {
   "cell_type": "code",
   "execution_count": null,
   "metadata": {},
   "outputs": [],
   "source": [
    "# data3.txt\n",
    "{\"Country\": \"Poland\", \"avg_temp\": 15, \"min_temp\": 2}"
   ]
  },
  {
   "cell_type": "code",
   "execution_count": 36,
   "metadata": {},
   "outputs": [
    {
     "name": "stdout",
     "output_type": "stream",
     "text": [
      "Poland\n",
      "15\n",
      "2\n",
      "high\n",
      "File with filename data3.txt contains data for country Poland with data {'Country': 'Poland', 'avg_temp': 15, 'min_temp': 2}\n",
      "1\n",
      "File with filename data1.txt contains data for country Turkey with data {'Country': 'Turkey', 'avg_temp': 30}\n",
      "File with filename data2.txt contains data for country Greece with data {'Country': 'Greece', 'avg_temp': 28}\n",
      "File with filename data3.txt contains data for country Poland with data {'Country': 'Poland', 'avg_temp': 15, 'min_temp': 2}\n",
      "({'Country': 'Turkey', 'avg_temp': 30}, {'Country': 'Greece', 'avg_temp': 28})\n",
      "True\n",
      "False\n",
      "True\n",
      "False\n",
      "30\n",
      "\n"
     ]
    }
   ],
   "source": [
    "class CountryDataWithMinTemp(CountryData):\n",
    "    def __init__(self, filename) -> None:\n",
    "        super().__init__(filename)\n",
    "        self.min_temp = self.content['min_temp']\n",
    "        self.contrast_level = self.contrast()\n",
    "\n",
    "    def contrast(self):\n",
    "        if self.avg_temp - self.min_temp > 10:\n",
    "            return 'high'\n",
    "        return 'low'\n",
    "        \n",
    "data3 = CountryDataWithMinTemp('data3.txt')\n",
    "print(data3.country)\n",
    "print(data3.avg_temp)\n",
    "print(data3.min_temp)\n",
    "print(data3.contrast_level)\n",
    "print(data3)  #  print(str(data3))\n",
    "print(1)  # print(str(i))\n",
    "datas = map(lambda x: x, [data1, data2, data3])\n",
    "for x in datas:\n",
    "    print(x)\n",
    "\n",
    "print(data1 + data2)\n",
    "print(data1 > data2)\n",
    "print(data1 < data2)\n",
    "print(data1 >= data2)\n",
    "print(data1 <= data2)\n",
    "data1.content = ''\n",
    "print(data1.avg_temp)\n",
    "print(data1.content)\n"
   ]
  }
 ],
 "metadata": {
  "kernelspec": {
   "display_name": "Python 3",
   "language": "python",
   "name": "python3"
  },
  "language_info": {
   "codemirror_mode": {
    "name": "ipython",
    "version": 3
   },
   "file_extension": ".py",
   "mimetype": "text/x-python",
   "name": "python",
   "nbconvert_exporter": "python",
   "pygments_lexer": "ipython3",
   "version": "3.10.6"
  },
  "orig_nbformat": 4
 },
 "nbformat": 4,
 "nbformat_minor": 2
}
