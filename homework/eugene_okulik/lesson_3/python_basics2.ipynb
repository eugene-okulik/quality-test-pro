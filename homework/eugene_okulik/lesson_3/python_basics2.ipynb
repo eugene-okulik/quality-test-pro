{
 "cells": [
  {
   "attachments": {},
   "cell_type": "markdown",
   "metadata": {},
   "source": [
    "## Переменные в Python\n",
    "Переменная - это элемент, который хранит в себе какие либо данные.\n",
    "Если мы создали переменную, то она никогда не бывает абсолютно пустой. В ней может храниться, например, пустая строка. Тогда переменная хранит строку, которая пустая. И хранит ее до тех пор, пока программа не завершит работу."
   ]
  },
  {
   "attachments": {},
   "cell_type": "markdown",
   "metadata": {},
   "source": [
    "## Типы данных в Python\n",
    "Number (целое число)  \n",
    "String (строка)  \n",
    "Boolean (логический тип данных)  \n",
    "Float(числа с плавающей точкой)  \n",
    "List (список)  \n",
    "Dictionary (словарь)  \n",
    "Tuple (кортеж)  \n",
    "Set (множество)  "
   ]
  },
  {
   "attachments": {},
   "cell_type": "markdown",
   "metadata": {},
   "source": [
    "## List(списки)\n",
    "Python список - структура данных для хранения последовательностей.   \n",
    "Экземпляры значений, находящихся в списке, называются элементами списка."
   ]
  },
  {
   "cell_type": "code",
   "execution_count": 6,
   "metadata": {},
   "outputs": [
    {
     "name": "stdout",
     "output_type": "stream",
     "text": [
      "1\n",
      "4\n",
      "last\n",
      "None\n",
      "[1, 3, 4, 'text', False, None, 2.42, 'last']\n"
     ]
    }
   ],
   "source": [
    "my_list = [1, 3, 4, 'text', False, None, 2.42, 'last']\n",
    "print(my_list[0])  # получение элемента из списка с помощью его идентификатора\n",
    "print(my_list[2])\n",
    "print(my_list[-1])  # получение последнего элемента списка\n",
    "print(my_list[-3])\n",
    "print(my_list)"
   ]
  },
  {
   "cell_type": "code",
   "execution_count": 24,
   "metadata": {},
   "outputs": [
    {
     "name": "stdout",
     "output_type": "stream",
     "text": [
      "[2, 'text', None]\n",
      "[2.42, 'insert', None]\n",
      "2\n",
      "4\n",
      "False\n",
      "True\n"
     ]
    }
   ],
   "source": [
    "my_list = []  # создание пустого списка\n",
    "my_list = list()  # тоже создание пустого списка\n",
    "my_list.append(2)  # добавление в конец списка нового элемента\n",
    "my_list.append('text')\n",
    "my_list.append(None)\n",
    "print(my_list)\n",
    "\n",
    "my_list[1] = 'TEXT'\n",
    "my_list[1] = 2.42\n",
    "true_index = my_list.index(2.42)  # поиск на какой позиции в списке находится элемент со значением 2.42\n",
    "poped = my_list.pop(0)  # удаление из списка элемента по его ID и сохранение удаленного элемента в переменную\n",
    "my_list.insert(1, 'insert')\n",
    "print(my_list)\n",
    "print(poped)\n",
    "\n",
    "my_list.append('sdsdf')\n",
    "print(len(my_list))\n",
    "\n",
    "print('sdsd' in my_list)\n",
    "print('sdsd' not in my_list)\n"
   ]
  },
  {
   "attachments": {},
   "cell_type": "markdown",
   "metadata": {},
   "source": [
    "## Tuple(кортежи)\n",
    "Хранят данные различных типов  \n",
    "Неизменяемы  \n",
    "Занимают меньший размер  \n",
    "Оптимизируются интепретатором   \n",
    "По поведению похожи на списки. Главное отличие - нет функций, позволяющих что-то добавить в кортеж или изменить внутри него"
   ]
  },
  {
   "cell_type": "code",
   "execution_count": 49,
   "metadata": {},
   "outputs": [
    {
     "name": "stdout",
     "output_type": "stream",
     "text": [
      "5\n",
      "None\n",
      "5\n",
      "2\n",
      "(2, 5)\n",
      "2\n"
     ]
    }
   ],
   "source": [
    "my_tuple = (1, 3, 5, 'text', False, 2.42, None, 3)\n",
    "print(my_tuple[2])\n",
    "print(my_tuple[-2])\n",
    "# my_tuple.append(23)\n",
    "# my_tuple[0] = 50  - эта штука вернет ошибку, т.к. внутри кортежа нельзя ничего изменять\n",
    "print(my_tuple.index(2.42))\n",
    "print(my_tuple.count(3))\n",
    "my_tuple = (2, 5)  # это перезаписывание, а не изменение\n",
    "print(my_tuple)\n",
    "print(len(my_tuple))"
   ]
  },
  {
   "cell_type": "code",
   "execution_count": null,
   "metadata": {},
   "outputs": [],
   "source": [
    "my_tuple = ()\n",
    "my_tuple = tuple()\n",
    "my_list = [2]\n",
    "a = (2)  # это цифра в скобках\n",
    "my_tuple = (2,)  # это кортеж с одним элементом"
   ]
  },
  {
   "attachments": {},
   "cell_type": "markdown",
   "metadata": {},
   "source": [
    "## Set(множества)\n",
    "Содержит в себе только неповторяющиеся элементы  \n",
    "Не гарантирует порядок элементов  \n",
    "Работа с ним тоже похожа на работу со списком \n"
   ]
  },
  {
   "cell_type": "code",
   "execution_count": 53,
   "metadata": {},
   "outputs": [
    {
     "name": "stdout",
     "output_type": "stream",
     "text": [
      "{False, 1, 2, 'text', 2.42, 5, None}\n",
      "7\n",
      "[1, 2, 3, 4]\n"
     ]
    }
   ],
   "source": [
    "my_set = {1, 2, 5, 'text', 2.42, None, False, 2, None}\n",
    "print(my_set)\n",
    "# print(my_set[0]) - вернет ошибку, т.к. элементы внутри множества не имеют четкой позиции\n",
    "# my_set[0] = 3\n",
    "my_set.add(6)\n",
    "my_set.add(5)\n",
    "poped = my_set.pop()\n",
    "print(len(my_set))\n",
    "\n",
    "my_list = [1, 3, 4, 2, 4, 1, 3]\n",
    "# my_list = set(my_list)\n",
    "# print(my_list)\n",
    "# my_list = list(my_list)\n",
    "# print(my_list)\n",
    "my_list = list(set(my_list))  # способ превращения списка в список уникальных элементов. Здесь два раза использовано преобразование типов: сначала в множество, потом в список\n",
    "print(my_list)"
   ]
  },
  {
   "cell_type": "code",
   "execution_count": null,
   "metadata": {},
   "outputs": [],
   "source": [
    "my_set = set()"
   ]
  },
  {
   "attachments": {},
   "cell_type": "markdown",
   "metadata": {},
   "source": [
    "## Dictionary(словари)\n",
    "Словари в Python - неупорядоченные (это не так начиная с версии 3.8) коллекции произвольных объектов с доступом по ключу. Их иногда ещё называют ассоциативными массивами или хеш-таблицами.  \n",
    "  \n",
    "данные в словаре - это пары ключ: значение  \n",
    "доступ к значениям осуществляется по ключу, а не по номеру, как в списках  \n",
    "данные в словаре упорядочены по порядку добавления элементов  \n",
    "так как словари изменяемы, то элементы словаря можно менять, добавлять, удалять  \n",
    "ключ должен быть объектом неизменяемого типа: число, строка, кортеж  \n",
    "значение может быть данными любого типа  "
   ]
  },
  {
   "cell_type": "code",
   "execution_count": 64,
   "metadata": {},
   "outputs": [
    {
     "name": "stdout",
     "output_type": "stream",
     "text": [
      "{'one': 'value1', 'two': 'value2'}\n",
      "value1\n",
      "{'one': 'value1', 'two': 'VALUE', 'three': 'value3', 'bool': False, 'list': [1, 3, 5], (1, 2): 'some value'}\n",
      "dict_keys(['one', 'two', 'three', 'bool', 'list', (1, 2)])\n",
      "dict_values(['value1', 'VALUE', 'value3', False, [1, 3, 5], 'some value'])\n",
      "dict_items([('one', 'value1'), ('two', 'VALUE'), ('three', 'value3'), ('bool', False), ('list', [1, 3, 5]), ((1, 2), 'some value')])\n"
     ]
    }
   ],
   "source": [
    "my_dict = {}  # Создание пустого словаря\n",
    "my_dict = dict()  # тоже создание пустого словаря\n",
    "\n",
    "my_dict = {'one': 'value1', 'two': 'value2'}\n",
    "print(my_dict)\n",
    "print(my_dict['one'])\n",
    "my_dict['two'] = 'VALUE'  # изменение значения элемента с ключом 'one'\n",
    "my_dict['three'] = 'value3'  # добавление в словарь новой пары ключ-значение\n",
    "my_dict['bool'] = False\n",
    "my_dict['list'] = [1, 3, 5]\n",
    "my_dict[(1, 2)] = 'some value'\n",
    "print(my_dict)\n",
    "\n",
    "print(my_dict.keys())  # получение всех ключей словаря в виде списка\n",
    "print(my_dict.values())  # получение всех значений словаря в виде списка\n",
    "print(my_dict.items())  # получение всех пар ключ-значение в виде списка кортежей"
   ]
  }
 ],
 "metadata": {
  "kernelspec": {
   "display_name": "Python 3",
   "language": "python",
   "name": "python3"
  },
  "language_info": {
   "codemirror_mode": {
    "name": "ipython",
    "version": 3
   },
   "file_extension": ".py",
   "mimetype": "text/x-python",
   "name": "python",
   "nbconvert_exporter": "python",
   "pygments_lexer": "ipython3",
   "version": "3.10.6"
  },
  "orig_nbformat": 4
 },
 "nbformat": 4,
 "nbformat_minor": 2
}
